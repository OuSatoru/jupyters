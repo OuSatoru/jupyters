{
 "cells": [
  {
   "cell_type": "code",
   "execution_count": 11,
   "metadata": {
    "collapsed": true
   },
   "outputs": [],
   "source": [
    "import pandas as pd"
   ]
  },
  {
   "cell_type": "code",
   "execution_count": 12,
   "metadata": {},
   "outputs": [],
   "source": [
    "diabetes = pd.read_csv('pima-indians-diabetes.csv')"
   ]
  },
  {
   "cell_type": "code",
   "execution_count": 15,
   "metadata": {
    "collapsed": false
   },
   "outputs": [
    {
     "data": {
      "text/plain": [
       "Index(['Number_pregnant', 'Glucose_concentration', 'Blood_pressure', 'Triceps',\n       'Insulin', 'BMI', 'Pedigree', 'Age', 'Class', 'Group'],\n      dtype='object')"
      ]
     },
     "execution_count": 15,
     "metadata": {},
     "output_type": "execute_result"
    }
   ],
   "source": [
    "diabetes.columns"
   ]
  },
  {
   "cell_type": "code",
   "execution_count": 16,
   "metadata": {},
   "outputs": [],
   "source": [
    "cols_to_norm = ['Number_pregnant', 'Glucose_concentration', 'Blood_pressure', 'Triceps',\n",
    "                'Insulin', 'BMI', 'Pedigree']"
   ]
  },
  {
   "cell_type": "code",
   "execution_count": 18,
   "metadata": {},
   "outputs": [],
   "source": [
    "diabetes[cols_to_norm] = diabetes[cols_to_norm].apply(lambda x: (x - x.min()) / (x.max() - x.min()))"
   ]
  },
  {
   "cell_type": "code",
   "execution_count": 19,
   "metadata": {},
   "outputs": [
    {
     "data": {
      "text/html": [
       "<div>\n",
       "<style scoped>\n",
       "    .dataframe tbody tr th:only-of-type {\n",
       "        vertical-align: middle;\n",
       "    }\n",
       "\n",
       "    .dataframe tbody tr th {\n",
       "        vertical-align: top;\n",
       "    }\n",
       "\n",
       "    .dataframe thead th {\n",
       "        text-align: right;\n",
       "    }\n",
       "</style>\n",
       "<table border=\"1\" class=\"dataframe\">\n",
       "  <thead>\n",
       "    <tr style=\"text-align: right;\">\n",
       "      <th></th>\n",
       "      <th>Number_pregnant</th>\n",
       "      <th>Glucose_concentration</th>\n",
       "      <th>Blood_pressure</th>\n",
       "      <th>Triceps</th>\n",
       "      <th>Insulin</th>\n",
       "      <th>BMI</th>\n",
       "      <th>Pedigree</th>\n",
       "      <th>Age</th>\n",
       "      <th>Class</th>\n",
       "      <th>Group</th>\n",
       "    </tr>\n",
       "  </thead>\n",
       "  <tbody>\n",
       "    <tr>\n",
       "      <th>0</th>\n",
       "      <td>0.352941</td>\n",
       "      <td>0.743719</td>\n",
       "      <td>0.590164</td>\n",
       "      <td>0.353535</td>\n",
       "      <td>0.000000</td>\n",
       "      <td>0.500745</td>\n",
       "      <td>0.234415</td>\n",
       "      <td>50</td>\n",
       "      <td>1</td>\n",
       "      <td>B</td>\n",
       "    </tr>\n",
       "    <tr>\n",
       "      <th>1</th>\n",
       "      <td>0.058824</td>\n",
       "      <td>0.427136</td>\n",
       "      <td>0.540984</td>\n",
       "      <td>0.292929</td>\n",
       "      <td>0.000000</td>\n",
       "      <td>0.396423</td>\n",
       "      <td>0.116567</td>\n",
       "      <td>31</td>\n",
       "      <td>0</td>\n",
       "      <td>C</td>\n",
       "    </tr>\n",
       "    <tr>\n",
       "      <th>2</th>\n",
       "      <td>0.470588</td>\n",
       "      <td>0.919598</td>\n",
       "      <td>0.524590</td>\n",
       "      <td>0.000000</td>\n",
       "      <td>0.000000</td>\n",
       "      <td>0.347243</td>\n",
       "      <td>0.253629</td>\n",
       "      <td>32</td>\n",
       "      <td>1</td>\n",
       "      <td>B</td>\n",
       "    </tr>\n",
       "    <tr>\n",
       "      <th>3</th>\n",
       "      <td>0.058824</td>\n",
       "      <td>0.447236</td>\n",
       "      <td>0.540984</td>\n",
       "      <td>0.232323</td>\n",
       "      <td>0.111111</td>\n",
       "      <td>0.418778</td>\n",
       "      <td>0.038002</td>\n",
       "      <td>21</td>\n",
       "      <td>0</td>\n",
       "      <td>B</td>\n",
       "    </tr>\n",
       "    <tr>\n",
       "      <th>4</th>\n",
       "      <td>0.000000</td>\n",
       "      <td>0.688442</td>\n",
       "      <td>0.327869</td>\n",
       "      <td>0.353535</td>\n",
       "      <td>0.198582</td>\n",
       "      <td>0.642325</td>\n",
       "      <td>0.943638</td>\n",
       "      <td>33</td>\n",
       "      <td>1</td>\n",
       "      <td>C</td>\n",
       "    </tr>\n",
       "  </tbody>\n",
       "</table>\n",
       "</div>"
      ],
      "text/plain": [
       "<div>\n",
       "<style scoped>\n",
       "    .dataframe tbody tr th:only-of-type {\n",
       "        vertical-align: middle;\n",
       "    }\n",
       "\n",
       "    .dataframe tbody tr th {\n",
       "        vertical-align: top;\n",
       "    }\n",
       "\n",
       "    .dataframe thead th {\n",
       "        text-align: right;\n",
       "    }\n",
       "</style>\n",
       "<table border=\"1\" class=\"dataframe\">\n",
       "  <thead>\n",
       "    <tr style=\"text-align: right;\">\n",
       "      <th></th>\n",
       "      <th>Number_pregnant</th>\n",
       "      <th>Glucose_concentration</th>\n",
       "      <th>Blood_pressure</th>\n",
       "      <th>Triceps</th>\n",
       "      <th>Insulin</th>\n",
       "      <th>BMI</th>\n",
       "      <th>Pedigree</th>\n",
       "      <th>Age</th>\n",
       "      <th>Class</th>\n",
       "      <th>Group</th>\n",
       "    </tr>\n",
       "  </thead>\n",
       "  <tbody>\n",
       "    <tr>\n",
       "      <th>0</th>\n",
       "      <td>0.352941</td>\n",
       "      <td>0.743719</td>\n",
       "      <td>0.590164</td>\n",
       "      <td>0.353535</td>\n",
       "      <td>0.000000</td>\n",
       "      <td>0.500745</td>\n",
       "      <td>0.234415</td>\n",
       "      <td>50</td>\n",
       "      <td>1</td>\n",
       "      <td>B</td>\n",
       "    </tr>\n",
       "    <tr>\n",
       "      <th>1</th>\n",
       "      <td>0.058824</td>\n",
       "      <td>0.427136</td>\n",
       "      <td>0.540984</td>\n",
       "      <td>0.292929</td>\n",
       "      <td>0.000000</td>\n",
       "      <td>0.396423</td>\n",
       "      <td>0.116567</td>\n",
       "      <td>31</td>\n",
       "      <td>0</td>\n",
       "      <td>C</td>\n",
       "    </tr>\n",
       "    <tr>\n",
       "      <th>2</th>\n",
       "      <td>0.470588</td>\n",
       "      <td>0.919598</td>\n",
       "      <td>0.524590</td>\n",
       "      <td>0.000000</td>\n",
       "      <td>0.000000</td>\n",
       "      <td>0.347243</td>\n",
       "      <td>0.253629</td>\n",
       "      <td>32</td>\n",
       "      <td>1</td>\n",
       "      <td>B</td>\n",
       "    </tr>\n",
       "    <tr>\n",
       "      <th>3</th>\n",
       "      <td>0.058824</td>\n",
       "      <td>0.447236</td>\n",
       "      <td>0.540984</td>\n",
       "      <td>0.232323</td>\n",
       "      <td>0.111111</td>\n",
       "      <td>0.418778</td>\n",
       "      <td>0.038002</td>\n",
       "      <td>21</td>\n",
       "      <td>0</td>\n",
       "      <td>B</td>\n",
       "    </tr>\n",
       "    <tr>\n",
       "      <th>4</th>\n",
       "      <td>0.000000</td>\n",
       "      <td>0.688442</td>\n",
       "      <td>0.327869</td>\n",
       "      <td>0.353535</td>\n",
       "      <td>0.198582</td>\n",
       "      <td>0.642325</td>\n",
       "      <td>0.943638</td>\n",
       "      <td>33</td>\n",
       "      <td>1</td>\n",
       "      <td>C</td>\n",
       "    </tr>\n",
       "  </tbody>\n",
       "</table>\n",
       "</div>"
      ]
     },
     "execution_count": 19,
     "metadata": {},
     "output_type": "execute_result"
    }
   ],
   "source": [
    "diabetes.head()"
   ]
  },
  {
   "cell_type": "code",
   "execution_count": 20,
   "metadata": {},
   "outputs": [],
   "source": [
    "import tensorflow as tf"
   ]
  },
  {
   "cell_type": "code",
   "execution_count": 21,
   "metadata": {},
   "outputs": [],
   "source": [
    "num_preg = tf.feature_column.numeric_column('Number_pregnant')\n",
    "plasma_gluc = tf.feature_column.numeric_column('Glucose_concentration')\n",
    "dias_press = tf.feature_column.numeric_column('Blood_pressure')\n",
    "tricep = tf.feature_column.numeric_column('Triceps')\n",
    "insulin = tf.feature_column.numeric_column('Insulin')\n",
    "bmi = tf.feature_column.numeric_column('BMI')\n",
    "diabetes_pedigree = tf.feature_column.numeric_column('Pedigree')\n",
    "age = tf.feature_column.numeric_column('Age')"
   ]
  },
  {
   "cell_type": "code",
   "execution_count": 22,
   "metadata": {},
   "outputs": [],
   "source": [
    "assigned_group = tf.feature_column.categorical_column_with_vocabulary_list('Group', ['A', 'B', 'C', 'D'])"
   ]
  },
  {
   "cell_type": "code",
   "execution_count": 23,
   "metadata": {},
   "outputs": [],
   "source": [
    "# assigned_group = tf.feature_column.categorical_column_with_hash_bucket('Group', hash_bucket_size=10)"
   ]
  },
  {
   "cell_type": "code",
   "execution_count": 25,
   "metadata": {},
   "outputs": [],
   "source": [
    "import matplotlib.pyplot as plt\n",
    "%matplotlib inline"
   ]
  },
  {
   "cell_type": "code",
   "execution_count": 26,
   "metadata": {},
   "outputs": [
    {
     "data": {
      "text/plain": [
       "<matplotlib.axes._subplots.AxesSubplot at 0x174706ddac8>"
      ]
     },
     "execution_count": 26,
     "metadata": {},
     "output_type": "execute_result"
    },
    {
     "data": {
      "image/png": "[encoded data removed]",
      "text/plain": [
       "<matplotlib.figure.Figure at 0x1746ff7d518>"
      ]
     },
     "metadata": {},
     "output_type": "display_data"
    }
   ],
   "source": [
    "diabetes['Age'].hist(bins=20)"
   ]
  },
  {
   "cell_type": "code",
   "execution_count": 29,
   "metadata": {},
   "outputs": [],
   "source": [
    "age_bucket = tf.feature_column.bucketized_column(age, \n",
    "                                                 boundaries=[20, 30, 40, 50, 60, 70, 80])"
   ]
  },
  {
   "cell_type": "code",
   "execution_count": 30,
   "metadata": {},
   "outputs": [],
   "source": [
    "feat_cols = [num_preg, plasma_gluc, dias_press, tricep, insulin, bmi, diabetes_pedigree,\n",
    "             assigned_group, age_bucket]"
   ]
  },
  {
   "cell_type": "code",
   "execution_count": 32,
   "metadata": {},
   "outputs": [
    {
     "name": "stdout",
     "output_type": "stream",
     "text": [
      "<class 'pandas.core.frame.DataFrame'>\nRangeIndex: 768 entries, 0 to 767\nData columns (total 10 columns):\nNumber_pregnant          768 non-null float64\nGlucose_concentration    768 non-null float64\nBlood_pressure           768 non-null float64\nTriceps                  768 non-null float64\nInsulin                  768 non-null float64\nBMI                      768 non-null float64\nPedigree                 768 non-null float64\nAge                      768 non-null int64\nClass                    768 non-null int64\nGroup                    768 non-null object\ndtypes: float64(7), int64(2), object(1)\nmemory usage: 60.1+ KB\n"
     ]
    }
   ],
   "source": [
    "diabetes.info()"
   ]
  },
  {
   "cell_type": "code",
   "execution_count": 33,
   "metadata": {},
   "outputs": [],
   "source": [
    "x_data = diabetes.drop('Class',axis=1)"
   ]
  },
  {
   "cell_type": "code",
   "execution_count": 34,
   "metadata": {},
   "outputs": [],
   "source": [
    "labels = diabetes['Class']"
   ]
  },
  {
   "cell_type": "code",
   "execution_count": 35,
   "metadata": {},
   "outputs": [],
   "source": [
    "from sklearn.model_selection import train_test_split"
   ]
  },
  {
   "cell_type": "code",
   "execution_count": 38,
   "metadata": {},
   "outputs": [],
   "source": [
    "X_train, X_test, y_train, y_test = train_test_split(x_data,labels,test_size=0.33, random_state=101)"
   ]
  },
  {
   "cell_type": "code",
   "execution_count": 39,
   "metadata": {},
   "outputs": [],
   "source": [
    "input_func = tf.estimator.inputs.pandas_input_fn(x=X_train,y=y_train,batch_size=10,num_epochs=1000,shuffle=True)"
   ]
  },
  {
   "cell_type": "code",
   "execution_count": 40,
   "metadata": {},
   "outputs": [
    {
     "name": "stdout",
     "output_type": "stream",
     "text": [
      "INFO:tensorflow:Using default config.\n"
     ]
    },
    {
     "name": "stdout",
     "output_type": "stream",
     "text": [
      "WARNING:tensorflow:Using temporary folder as model directory: C:\\Users\\HINANA~1\\AppData\\Local\\Temp\\tmpu4xclzqg\n"
     ]
    },
    {
     "name": "stdout",
     "output_type": "stream",
     "text": [
      "INFO:tensorflow:Using config: {'_model_dir': 'C:\\\\Users\\\\HINANA~1\\\\AppData\\\\Local\\\\Temp\\\\tmpu4xclzqg', '_tf_random_seed': None, '_save_summary_steps': 100, '_save_checkpoints_steps': None, '_save_checkpoints_secs': 600, '_session_config': None, '_keep_checkpoint_max': 5, '_keep_checkpoint_every_n_hours': 10000, '_log_step_count_steps': 100, '_service': None, '_cluster_spec': <tensorflow.python.training.server_lib.ClusterSpec object at 0x0000017470C5D6A0>, '_task_type': 'worker', '_task_id': 0, '_master': '', '_is_chief': True, '_num_ps_replicas': 0, '_num_worker_replicas': 1}\n"
     ]
    }
   ],
   "source": [
    "model = tf.estimator.LinearClassifier(feature_columns=feat_cols,n_classes=2)"
   ]
  },
  {
   "cell_type": "code",
   "execution_count": 41,
   "metadata": {},
   "outputs": [
    {
     "name": "stdout",
     "output_type": "stream",
     "text": [
      "INFO:tensorflow:Create CheckpointSaverHook.\n"
     ]
    },
    {
     "name": "stdout",
     "output_type": "stream",
     "text": [
      "INFO:tensorflow:Saving checkpoints for 1 into C:\\Users\\HINANA~1\\AppData\\Local\\Temp\\tmpu4xclzqg\\model.ckpt.\n"
     ]
    },
    {
     "name": "stdout",
     "output_type": "stream",
     "text": [
      "INFO:tensorflow:loss = 6.931472, step = 1\n"
     ]
    },
    {
     "name": "stdout",
     "output_type": "stream",
     "text": [
      "INFO:tensorflow:global_step/sec: 298.516\n"
     ]
    },
    {
     "name": "stdout",
     "output_type": "stream",
     "text": [
      "INFO:tensorflow:loss = 4.2517815, step = 101 (0.336 sec)\n"
     ]
    },
    {
     "name": "stdout",
     "output_type": "stream",
     "text": [
      "INFO:tensorflow:global_step/sec: 504.965\n"
     ]
    },
    {
     "name": "stdout",
     "output_type": "stream",
     "text": [
      "INFO:tensorflow:loss = 6.432372, step = 201 (0.198 sec)\n"
     ]
    },
    {
     "name": "stdout",
     "output_type": "stream",
     "text": [
      "INFO:tensorflow:global_step/sec: 518.116\n"
     ]
    },
    {
     "name": "stdout",
     "output_type": "stream",
     "text": [
      "INFO:tensorflow:loss = 5.6776376, step = 301 (0.196 sec)\n"
     ]
    },
    {
     "name": "stdout",
     "output_type": "stream",
     "text": [
      "INFO:tensorflow:global_step/sec: 514.094\n"
     ]
    },
    {
     "name": "stdout",
     "output_type": "stream",
     "text": [
      "INFO:tensorflow:loss = 6.0741224, step = 401 (0.194 sec)\n"
     ]
    },
    {
     "name": "stdout",
     "output_type": "stream",
     "text": [
      "INFO:tensorflow:global_step/sec: 530.496\n"
     ]
    },
    {
     "name": "stdout",
     "output_type": "stream",
     "text": [
      "INFO:tensorflow:loss = 4.9538617, step = 501 (0.195 sec)\n"
     ]
    },
    {
     "name": "stdout",
     "output_type": "stream",
     "text": [
      "INFO:tensorflow:global_step/sec: 472.674\n"
     ]
    },
    {
     "name": "stdout",
     "output_type": "stream",
     "text": [
      "INFO:tensorflow:loss = 5.694969, step = 601 (0.207 sec)\n"
     ]
    },
    {
     "name": "stdout",
     "output_type": "stream",
     "text": [
      "INFO:tensorflow:global_step/sec: 487.697"
     ]
    },
    {
     "name": "stdout",
     "output_type": "stream",
     "text": [
      "\n"
     ]
    },
    {
     "name": "stdout",
     "output_type": "stream",
     "text": [
      "INFO:tensorflow:loss = 3.792738, step = 701 (0.209 sec)\n"
     ]
    },
    {
     "name": "stdout",
     "output_type": "stream",
     "text": [
      "INFO:tensorflow:global_step/sec: 488.892"
     ]
    },
    {
     "name": "stdout",
     "output_type": "stream",
     "text": [
      "\n"
     ]
    },
    {
     "name": "stdout",
     "output_type": "stream",
     "text": [
      "INFO:tensorflow:loss = 6.2045403, step = 801 (0.203 sec)\n"
     ]
    },
    {
     "name": "stdout",
     "output_type": "stream",
     "text": [
      "INFO:tensorflow:global_step/sec: 508.849\n"
     ]
    },
    {
     "name": "stdout",
     "output_type": "stream",
     "text": [
      "INFO:tensorflow:loss = 5.8348594, step = 901 (0.196 sec)\n"
     ]
    },
    {
     "name": "stdout",
     "output_type": "stream",
     "text": [
      "INFO:tensorflow:Saving checkpoints for 1000 into C:\\Users\\HINANA~1\\AppData\\Local\\Temp\\tmpu4xclzqg\\model.ckpt.\n"
     ]
    },
    {
     "name": "stdout",
     "output_type": "stream",
     "text": [
      "INFO:tensorflow:Loss for final step: 5.8639565.\n"
     ]
    },
    {
     "data": {
      "text/plain": [
       "<tensorflow.python.estimator.canned.linear.LinearClassifier at 0x17470c5d400>"
      ]
     },
     "execution_count": 41,
     "metadata": {},
     "output_type": "execute_result"
    }
   ],
   "source": [
    "model.train(input_fn=input_func,steps=1000)"
   ]
  },
  {
   "cell_type": "code",
   "execution_count": 42,
   "metadata": {},
   "outputs": [],
   "source": [
    "eval_input_func = tf.estimator.inputs.pandas_input_fn(\n",
    "      x=X_test,\n",
    "      y=y_test,\n",
    "      batch_size=10,\n",
    "      num_epochs=1,\n",
    "      shuffle=False)"
   ]
  },
  {
   "cell_type": "code",
   "execution_count": 43,
   "metadata": {},
   "outputs": [
    {
     "name": "stdout",
     "output_type": "stream",
     "text": [
      "WARNING:tensorflow:Casting <dtype: 'float32'> labels to bool.\n"
     ]
    },
    {
     "name": "stdout",
     "output_type": "stream",
     "text": [
      "WARNING:tensorflow:Casting <dtype: 'float32'> labels to bool.\n"
     ]
    },
    {
     "name": "stdout",
     "output_type": "stream",
     "text": [
      "INFO:tensorflow:Starting evaluation at 2018-01-23-08:01:44\n"
     ]
    },
    {
     "name": "stdout",
     "output_type": "stream",
     "text": [
      "INFO:tensorflow:Restoring parameters from C:\\Users\\HINANA~1\\AppData\\Local\\Temp\\tmpu4xclzqg\\model.ckpt-1000\n"
     ]
    },
    {
     "name": "stdout",
     "output_type": "stream",
     "text": [
      "INFO:tensorflow:Finished evaluation at 2018-01-23-08:01:46\n"
     ]
    },
    {
     "name": "stdout",
     "output_type": "stream",
     "text": [
      "INFO:tensorflow:Saving dict for global step 1000: accuracy = 0.72440946, accuracy_baseline = 0.65748036, auc = 0.7808865, auc_precision_recall = 0.6128626, average_loss = 0.53842396, global_step = 1000, label/mean = 0.34251967, loss = 5.259988, prediction/mean = 0.37961397\n"
     ]
    }
   ],
   "source": [
    "results = model.evaluate(eval_input_func)"
   ]
  },
  {
   "cell_type": "code",
   "execution_count": 44,
   "metadata": {},
   "outputs": [
    {
     "data": {
      "text/plain": [
       "{'accuracy': 0.72440946,\n 'accuracy_baseline': 0.65748036,\n 'auc': 0.7808865,\n 'auc_precision_recall': 0.6128626,\n 'average_loss': 0.53842396,\n 'global_step': 1000,\n 'label/mean': 0.34251967,\n 'loss': 5.259988,\n 'prediction/mean': 0.37961397}"
      ]
     },
     "execution_count": 44,
     "metadata": {},
     "output_type": "execute_result"
    }
   ],
   "source": [
    "results"
   ]
  },
  {
   "cell_type": "code",
   "execution_count": 45,
   "metadata": {},
   "outputs": [],
   "source": [
    "pred_input_func = tf.estimator.inputs.pandas_input_fn(\n",
    "      x=X_test,\n",
    "      batch_size=10,\n",
    "      num_epochs=1,\n",
    "      shuffle=False)"
   ]
  },
  {
   "cell_type": "code",
   "execution_count": 46,
   "metadata": {},
   "outputs": [],
   "source": [
    "predictions = model.predict(pred_input_func)"
   ]
  },
  {
   "cell_type": "code",
   "execution_count": 47,
   "metadata": {},
   "outputs": [
    {
     "name": "stdout",
     "output_type": "stream",
     "text": [
      "INFO:tensorflow:Restoring parameters from C:\\Users\\HINANA~1\\AppData\\Local\\Temp\\tmpu4xclzqg\\model.ckpt-1000\n"
     ]
    },
    {
     "data": {
      "text/plain": [
       "[{'class_ids': array([1], dtype=int64),\n  'classes': array([b'1'], dtype=object),\n  'logistic': array([0.54412276], dtype=float32),\n  'logits': array([0.17695129], dtype=float32),\n  'probabilities': array([0.45587724, 0.54412276], dtype=float32)},\n {'class_ids': array([1], dtype=int64),\n  'classes': array([b'1'], dtype=object),\n  'logistic': array([0.62616533], dtype=float32),\n  'logits': array([0.5158007], dtype=float32),\n  'probabilities': array([0.3738347 , 0.62616533], dtype=float32)},\n {'class_ids': array([0], dtype=int64),\n  'classes': array([b'0'], dtype=object),\n  'logistic': array([0.3946321], dtype=float32),\n  'logits': array([-0.42788243], dtype=float32),\n  'probabilities': array([0.6053679 , 0.39463207], dtype=float32)},\n {'class_ids': array([0], dtype=int64),\n  'classes': array([b'0'], dtype=object),\n  'logistic': array([0.33637193], dtype=float32),\n  'logits': array([-0.6795044], dtype=float32),\n  'probabilities': array([0.6636281 , 0.33637193], dtype=float32)},\n {'class_ids': array([0], dtype=int64),\n  'classes': array([b'0'], dtype=object),\n  'logistic': array([0.15103155], dtype=float32),\n  'logits': array([-1.7265332], dtype=float32),\n  'probabilities': array([0.84896845, 0.15103157], dtype=float32)},\n {'class_ids': array([1], dtype=int64),\n  'classes': array([b'1'], dtype=object),\n  'logistic': array([0.7042864], dtype=float32),\n  'logits': array([0.86779356], dtype=float32),\n  'probabilities': array([0.29571363, 0.7042864 ], dtype=float32)},\n {'class_ids': array([1], dtype=int64),\n  'classes': array([b'1'], dtype=object),\n  'logistic': array([0.5924989], dtype=float32),\n  'logits': array([0.37430537], dtype=float32),\n  'probabilities': array([0.4075011, 0.5924989], dtype=float32)},\n {'class_ids': array([0], dtype=int64),\n  'classes': array([b'0'], dtype=object),\n  'logistic': array([0.36489215], dtype=float32),\n  'logits': array([-0.5541929], dtype=float32),\n  'probabilities': array([0.6351078 , 0.36489215], dtype=float32)},\n {'class_ids': array([0], dtype=int64),\n  'classes': array([b'0'], dtype=object),\n  'logistic': array([0.25463367], dtype=float32),\n  'logits': array([-1.07405], dtype=float32),\n  'probabilities': array([0.7453664, 0.2546337], dtype=float32)},\n {'class_ids': array([0], dtype=int64),\n  'classes': array([b'0'], dtype=object),\n  'logistic': array([0.26001284], dtype=float32),\n  'logits': array([-1.0459019], dtype=float32),\n  'probabilities': array([0.7399872 , 0.26001284], dtype=float32)},\n {'class_ids': array([0], dtype=int64),\n  'classes': array([b'0'], dtype=object),\n  'logistic': array([0.13176215], dtype=float32),\n  'logits': array([-1.8854673], dtype=float32),\n  'probabilities': array([0.8682378 , 0.13176215], dtype=float32)},\n {'class_ids': array([0], dtype=int64),\n  'classes': array([b'0'], dtype=object),\n  'logistic': array([0.15935937], dtype=float32),\n  'logits': array([-1.6630025], dtype=float32),\n  'probabilities': array([0.8406406 , 0.15935935], dtype=float32)},\n {'class_ids': array([0], dtype=int64),\n  'classes': array([b'0'], dtype=object),\n  'logistic': array([0.30890578], dtype=float32),\n  'logits': array([-0.8052399], dtype=float32),\n  'probabilities': array([0.6910942 , 0.30890578], dtype=float32)},\n {'class_ids': array([1], dtype=int64),\n  'classes': array([b'1'], dtype=object),\n  'logistic': array([0.5867493], dtype=float32),\n  'logits': array([0.35054314], dtype=float32),\n  'probabilities': array([0.4132507, 0.5867493], dtype=float32)},\n {'class_ids': array([0], dtype=int64),\n  'classes': array([b'0'], dtype=object),\n  'logistic': array([0.17504594], dtype=float32),\n  'logits': array([-1.5502793], dtype=float32),\n  'probabilities': array([0.82495403, 0.17504592], dtype=float32)},\n {'class_ids': array([0], dtype=int64),\n  'classes': array([b'0'], dtype=object),\n  'logistic': array([0.34396434], dtype=float32),\n  'logits': array([-0.6456772], dtype=float32),\n  'probabilities': array([0.65603566, 0.34396434], dtype=float32)},\n {'class_ids': array([0], dtype=int64),\n  'classes': array([b'0'], dtype=object),\n  'logistic': array([0.38705745], dtype=float32),\n  'logits': array([-0.45969802], dtype=float32),\n  'probabilities': array([0.6129426 , 0.38705748], dtype=float32)},\n {'class_ids': array([0], dtype=int64),\n  'classes': array([b'0'], dtype=object),\n  'logistic': array([0.13150762], dtype=float32),\n  'logits': array([-1.887694], dtype=float32),\n  'probabilities': array([0.86849236, 0.13150762], dtype=float32)},\n {'class_ids': array([0], dtype=int64),\n  'classes': array([b'0'], dtype=object),\n  'logistic': array([0.37698445], dtype=float32),\n  'logits': array([-0.50236756], dtype=float32),\n  'probabilities': array([0.6230156 , 0.37698445], dtype=float32)},\n {'class_ids': array([0], dtype=int64),\n  'classes': array([b'0'], dtype=object),\n  'logistic': array([0.1464073], dtype=float32),\n  'logits': array([-1.7630616], dtype=float32),\n  'probabilities': array([0.8535927 , 0.14640729], dtype=float32)},\n {'class_ids': array([0], dtype=int64),\n  'classes': array([b'0'], dtype=object),\n  'logistic': array([0.2270395], dtype=float32),\n  'logits': array([-1.225104], dtype=float32),\n  'probabilities': array([0.7729605 , 0.22703949], dtype=float32)},\n {'class_ids': array([0], dtype=int64),\n  'classes': array([b'0'], dtype=object),\n  'logistic': array([0.31788185], dtype=float32),\n  'logits': array([-0.7635232], dtype=float32),\n  'probabilities': array([0.6821182 , 0.31788182], dtype=float32)},\n {'class_ids': array([1], dtype=int64),\n  'classes': array([b'1'], dtype=object),\n  'logistic': array([0.6754573], dtype=float32),\n  'logits': array([0.73297274], dtype=float32),\n  'probabilities': array([0.32454273, 0.6754573 ], dtype=float32)},\n {'class_ids': array([0], dtype=int64),\n  'classes': array([b'0'], dtype=object),\n  'logistic': array([0.2244183], dtype=float32),\n  'logits': array([-1.2401016], dtype=float32),\n  'probabilities': array([0.7755817 , 0.22441831], dtype=float32)},\n {'class_ids': array([0], dtype=int64),\n  'classes': array([b'0'], dtype=object),\n  'logistic': array([0.1880796], dtype=float32),\n  'logits': array([-1.462537], dtype=float32),\n  'probabilities': array([0.8119204, 0.1880796], dtype=float32)},\n {'class_ids': array([1], dtype=int64),\n  'classes': array([b'1'], dtype=object),\n  'logistic': array([0.77597815], dtype=float32),\n  'logits': array([1.242381], dtype=float32),\n  'probabilities': array([0.2240218 , 0.77597815], dtype=float32)},\n {'class_ids': array([0], dtype=int64),\n  'classes': array([b'0'], dtype=object),\n  'logistic': array([0.19530994], dtype=float32),\n  'logits': array([-1.4158695], dtype=float32),\n  'probabilities': array([0.80469006, 0.19530994], dtype=float32)},\n {'class_ids': array([0], dtype=int64),\n  'classes': array([b'0'], dtype=object),\n  'logistic': array([0.3174845], dtype=float32),\n  'logits': array([-0.7653562], dtype=float32),\n  'probabilities': array([0.6825155, 0.3174845], dtype=float32)},\n {'class_ids': array([0], dtype=int64),\n  'classes': array([b'0'], dtype=object),\n  'logistic': array([0.10472271], dtype=float32),\n  'logits': array([-2.1458175], dtype=float32),\n  'probabilities': array([0.8952773 , 0.10472271], dtype=float32)},\n {'class_ids': array([1], dtype=int64),\n  'classes': array([b'1'], dtype=object),\n  'logistic': array([0.599036], dtype=float32),\n  'logits': array([0.40144992], dtype=float32),\n  'probabilities': array([0.40096402, 0.599036  ], dtype=float32)},\n {'class_ids': array([1], dtype=int64),\n  'classes': array([b'1'], dtype=object),\n  'logistic': array([0.9451841], dtype=float32),\n  'logits': array([2.8473983], dtype=float32),\n  'probabilities': array([0.05481596, 0.9451841 ], dtype=float32)},\n {'class_ids': array([0], dtype=int64),\n  'classes': array([b'0'], dtype=object),\n  'logistic': array([0.42032856], dtype=float32),\n  'logits': array([-0.32142484], dtype=float32),\n  'probabilities': array([0.5796715 , 0.42032856], dtype=float32)},\n {'class_ids': array([0], dtype=int64),\n  'classes': array([b'0'], dtype=object),\n  'logistic': array([0.32651967], dtype=float32),\n  'logits': array([-0.7239687], dtype=float32),\n  'probabilities': array([0.67348033, 0.32651964], dtype=float32)},\n {'class_ids': array([1], dtype=int64),\n  'classes': array([b'1'], dtype=object),\n  'logistic': array([0.604452], dtype=float32),\n  'logits': array([0.4240501], dtype=float32),\n  'probabilities': array([0.39554802, 0.604452  ], dtype=float32)},\n {'class_ids': array([0], dtype=int64),\n  'classes': array([b'0'], dtype=object),\n  'logistic': array([0.25734496], dtype=float32),\n  'logits': array([-1.0598142], dtype=float32),\n  'probabilities': array([0.74265504, 0.25734496], dtype=float32)},\n {'class_ids': array([0], dtype=int64),\n  'classes': array([b'0'], dtype=object),\n  'logistic': array([0.3896543], dtype=float32),\n  'logits': array([-0.44876558], dtype=float32),\n  'probabilities': array([0.61034566, 0.38965428], dtype=float32)},\n {'class_ids': array([1], dtype=int64),\n  'classes': array([b'1'], dtype=object),\n  'logistic': array([0.5316188], dtype=float32),\n  'logits': array([0.12664402], dtype=float32),\n  'probabilities': array([0.46838126, 0.5316188 ], dtype=float32)},\n {'class_ids': array([1], dtype=int64),\n  'classes': array([b'1'], dtype=object),\n  'logistic': array([0.6721871], dtype=float32),\n  'logits': array([0.71809375], dtype=float32),\n  'probabilities': array([0.32781288, 0.6721871 ], dtype=float32)},\n {'class_ids': array([1], dtype=int64),\n  'classes': array([b'1'], dtype=object),\n  'logistic': array([0.7506115], dtype=float32),\n  'logits': array([1.1018761], dtype=float32),\n  'probabilities': array([0.24938852, 0.7506115 ], dtype=float32)},\n {'class_ids': array([0], dtype=int64),\n  'classes': array([b'0'], dtype=object),\n  'logistic': array([0.34161675], dtype=float32),\n  'logits': array([-0.6560978], dtype=float32),\n  'probabilities': array([0.65838325, 0.34161672], dtype=float32)},\n {'class_ids': array([0], dtype=int64),\n  'classes': array([b'0'], dtype=object),\n  'logistic': array([0.19362451], dtype=float32),\n  'logits': array([-1.4266287], dtype=float32),\n  'probabilities': array([0.8063755 , 0.19362451], dtype=float32)},\n {'class_ids': array([1], dtype=int64),\n  'classes': array([b'1'], dtype=object),\n  'logistic': array([0.53631663], dtype=float32),\n  'logits': array([0.14552271], dtype=float32),\n  'probabilities': array([0.4636834 , 0.53631663], dtype=float32)},\n {'class_ids': array([0], dtype=int64),\n  'classes': array([b'0'], dtype=object),\n  'logistic': array([0.15766615], dtype=float32),\n  'logits': array([-1.6756966], dtype=float32),\n  'probabilities': array([0.84233385, 0.15766615], dtype=float32)},\n {'class_ids': array([1], dtype=int64),\n  'classes': array([b'1'], dtype=object),\n  'logistic': array([0.5479256], dtype=float32),\n  'logits': array([0.19229269], dtype=float32),\n  'probabilities': array([0.45207444, 0.5479256 ], dtype=float32)},\n {'class_ids': array([0], dtype=int64),\n  'classes': array([b'0'], dtype=object),\n  'logistic': array([0.14703193], dtype=float32),\n  'logits': array([-1.7580724], dtype=float32),\n  'probabilities': array([0.85296804, 0.14703192], dtype=float32)},\n {'class_ids': array([0], dtype=int64),\n  'classes': array([b'0'], dtype=object),\n  'logistic': array([0.11277293], dtype=float32),\n  'logits': array([-2.0627246], dtype=float32),\n  'probabilities': array([0.8872271 , 0.11277294], dtype=float32)},\n {'class_ids': array([1], dtype=int64),\n  'classes': array([b'1'], dtype=object),\n  'logistic': array([0.64152133], dtype=float32),\n  'logits': array([0.5819733], dtype=float32),\n  'probabilities': array([0.35847867, 0.64152133], dtype=float32)},\n {'class_ids': array([0], dtype=int64),\n  'classes': array([b'0'], dtype=object),\n  'logistic': array([0.19575092], dtype=float32),\n  'logits': array([-1.413066], dtype=float32),\n  'probabilities': array([0.80424905, 0.1957509 ], dtype=float32)},\n {'class_ids': array([0], dtype=int64),\n  'classes': array([b'0'], dtype=object),\n  'logistic': array([0.21632653], dtype=float32),\n  'logits': array([-1.2872034], dtype=float32),\n  'probabilities': array([0.7836734 , 0.21632653], dtype=float32)},\n {'class_ids': array([0], dtype=int64),\n  'classes': array([b'0'], dtype=object),\n  'logistic': array([0.12072919], dtype=float32),\n  'logits': array([-1.985543], dtype=float32),\n  'probabilities': array([0.87927085, 0.12072919], dtype=float32)},\n {'class_ids': array([0], dtype=int64),\n  'classes': array([b'0'], dtype=object),\n  'logistic': array([0.17663431], dtype=float32),\n  'logits': array([-1.5393189], dtype=float32),\n  'probabilities': array([0.8233657, 0.1766343], dtype=float32)},\n {'class_ids': array([0], dtype=int64),\n  'classes': array([b'0'], dtype=object),\n  'logistic': array([0.25755504], dtype=float32),\n  'logits': array([-1.0587152], dtype=float32),\n  'probabilities': array([0.742445  , 0.25755507], dtype=float32)},\n {'class_ids': array([0], dtype=int64),\n  'classes': array([b'0'], dtype=object),\n  'logistic': array([0.26371217], dtype=float32),\n  'logits': array([-1.026763], dtype=float32),\n  'probabilities': array([0.73628783, 0.26371217], dtype=float32)},\n {'class_ids': array([0], dtype=int64),\n  'classes': array([b'0'], dtype=object),\n  'logistic': array([0.39209443], dtype=float32),\n  'logits': array([-0.43851686], dtype=float32),\n  'probabilities': array([0.60790557, 0.39209443], dtype=float32)},\n {'class_ids': array([0], dtype=int64),\n  'classes': array([b'0'], dtype=object),\n  'logistic': array([0.1397228], dtype=float32),\n  'logits': array([-1.8175943], dtype=float32),\n  'probabilities': array([0.86027724, 0.1397228 ], dtype=float32)},\n {'class_ids': array([0], dtype=int64),\n  'classes': array([b'0'], dtype=object),\n  'logistic': array([0.22872543], dtype=float32),\n  'logits': array([-1.215522], dtype=float32),\n  'probabilities': array([0.77127457, 0.22872545], dtype=float32)},\n {'class_ids': array([0], dtype=int64),\n  'classes': array([b'0'], dtype=object),\n  'logistic': array([0.21747647], dtype=float32),\n  'logits': array([-1.2804333], dtype=float32),\n  'probabilities': array([0.7825235 , 0.21747647], dtype=float32)},\n {'class_ids': array([0], dtype=int64),\n  'classes': array([b'0'], dtype=object),\n  'logistic': array([0.22595719], dtype=float32),\n  'logits': array([-1.2312818], dtype=float32),\n  'probabilities': array([0.77404284, 0.22595716], dtype=float32)},\n {'class_ids': array([0], dtype=int64),\n  'classes': array([b'0'], dtype=object),\n  'logistic': array([0.49971476], dtype=float32),\n  'logits': array([-0.00114107], dtype=float32),\n  'probabilities': array([0.50028527, 0.49971473], dtype=float32)},\n {'class_ids': array([0], dtype=int64),\n  'classes': array([b'0'], dtype=object),\n  'logistic': array([0.16983315], dtype=float32),\n  'logits': array([-1.5868101], dtype=float32),\n  'probabilities': array([0.8301668 , 0.16983315], dtype=float32)},\n {'class_ids': array([0], dtype=int64),\n  'classes': array([b'0'], dtype=object),\n  'logistic': array([0.24405058], dtype=float32),\n  'logits': array([-1.130599], dtype=float32),\n  'probabilities': array([0.7559495 , 0.24405058], dtype=float32)},\n {'class_ids': array([1], dtype=int64),\n  'classes': array([b'1'], dtype=object),\n  'logistic': array([0.6577195], dtype=float32),\n  'logits': array([0.65314806], dtype=float32),\n  'probabilities': array([0.34228048, 0.6577195 ], dtype=float32)},\n {'class_ids': array([1], dtype=int64),\n  'classes': array([b'1'], dtype=object),\n  'logistic': array([0.63149965], dtype=float32),\n  'logits': array([0.5386559], dtype=float32),\n  'probabilities': array([0.36850032, 0.63149965], dtype=float32)},\n {'class_ids': array([1], dtype=int64),\n  'classes': array([b'1'], dtype=object),\n  'logistic': array([0.51586205], dtype=float32),\n  'logits': array([0.06346941], dtype=float32),\n  'probabilities': array([0.484138  , 0.51586205], dtype=float32)},\n {'class_ids': array([0], dtype=int64),\n  'classes': array([b'0'], dtype=object),\n  'logistic': array([0.36607155], dtype=float32),\n  'logits': array([-0.5491073], dtype=float32),\n  'probabilities': array([0.6339285 , 0.36607155], dtype=float32)},\n {'class_ids': array([0], dtype=int64),\n  'classes': array([b'0'], dtype=object),\n  'logistic': array([0.49756348], dtype=float32),\n  'logits': array([-0.00974607], dtype=float32),\n  'probabilities': array([0.5024365, 0.4975635], dtype=float32)},\n {'class_ids': array([0], dtype=int64),\n  'classes': array([b'0'], dtype=object),\n  'logistic': array([0.18006702], dtype=float32),\n  'logits': array([-1.5158935], dtype=float32),\n  'probabilities': array([0.819933  , 0.18006703], dtype=float32)},\n {'class_ids': array([0], dtype=int64),\n  'classes': array([b'0'], dtype=object),\n  'logistic': array([0.20673312], dtype=float32),\n  'logits': array([-1.3447311], dtype=float32),\n  'probabilities': array([0.7932669 , 0.20673311], dtype=float32)},\n {'class_ids': array([0], dtype=int64),\n  'classes': array([b'0'], dtype=object),\n  'logistic': array([0.16657816], dtype=float32),\n  'logits': array([-1.6100754], dtype=float32),\n  'probabilities': array([0.8334219 , 0.16657816], dtype=float32)},\n {'class_ids': array([0], dtype=int64),\n  'classes': array([b'0'], dtype=object),\n  'logistic': array([0.13492225], dtype=float32),\n  'logits': array([-1.8581207], dtype=float32),\n  'probabilities': array([0.86507773, 0.13492225], dtype=float32)},\n {'class_ids': array([1], dtype=int64),\n  'classes': array([b'1'], dtype=object),\n  'logistic': array([0.60055494], dtype=float32),\n  'logits': array([0.40777802], dtype=float32),\n  'probabilities': array([0.399445  , 0.60055494], dtype=float32)},\n {'class_ids': array([0], dtype=int64),\n  'classes': array([b'0'], dtype=object),\n  'logistic': array([0.24601132], dtype=float32),\n  'logits': array([-1.1199998], dtype=float32),\n  'probabilities': array([0.7539887 , 0.24601133], dtype=float32)},\n {'class_ids': array([0], dtype=int64),\n  'classes': array([b'0'], dtype=object),\n  'logistic': array([0.44722986], dtype=float32),\n  'logits': array([-0.21186948], dtype=float32),\n  'probabilities': array([0.5527701 , 0.44722983], dtype=float32)},\n {'class_ids': array([1], dtype=int64),\n  'classes': array([b'1'], dtype=object),\n  'logistic': array([0.59146506], dtype=float32),\n  'logits': array([0.37002516], dtype=float32),\n  'probabilities': array([0.40853494, 0.59146506], dtype=float32)},\n {'class_ids': array([0], dtype=int64),\n  'classes': array([b'0'], dtype=object),\n  'logistic': array([0.31339657], dtype=float32),\n  'logits': array([-0.7842875], dtype=float32),\n  'probabilities': array([0.6866035, 0.3133966], dtype=float32)},\n {'class_ids': array([1], dtype=int64),\n  'classes': array([b'1'], dtype=object),\n  'logistic': array([0.66659045], dtype=float32),\n  'logits': array([0.6928041], dtype=float32),\n  'probabilities': array([0.33340958, 0.66659045], dtype=float32)},\n {'class_ids': array([0], dtype=int64),\n  'classes': array([b'0'], dtype=object),\n  'logistic': array([0.13213603], dtype=float32),\n  'logits': array([-1.8822031], dtype=float32),\n  'probabilities': array([0.86786395, 0.13213603], dtype=float32)},\n {'class_ids': array([1], dtype=int64),\n  'classes': array([b'1'], dtype=object),\n  'logistic': array([0.62192476], dtype=float32),\n  'logits': array([0.49772584], dtype=float32),\n  'probabilities': array([0.37807527, 0.62192476], dtype=float32)},\n {'class_ids': array([0], dtype=int64),\n  'classes': array([b'0'], dtype=object),\n  'logistic': array([0.12685916], dtype=float32),\n  'logits': array([-1.9290193], dtype=float32),\n  'probabilities': array([0.8731408 , 0.12685916], dtype=float32)},\n {'class_ids': array([1], dtype=int64),\n  'classes': array([b'1'], dtype=object),\n  'logistic': array([0.5626123], dtype=float32),\n  'logits': array([0.25177062], dtype=float32),\n  'probabilities': array([0.43738776, 0.5626123 ], dtype=float32)},\n {'class_ids': array([0], dtype=int64),\n  'classes': array([b'0'], dtype=object),\n  'logistic': array([0.34586388], dtype=float32),\n  'logits': array([-0.6372702], dtype=float32),\n  'probabilities': array([0.6541362, 0.3458639], dtype=float32)},\n {'class_ids': array([0], dtype=int64),\n  'classes': array([b'0'], dtype=object),\n  'logistic': array([0.17355126], dtype=float32),\n  'logits': array([-1.5606649], dtype=float32),\n  'probabilities': array([0.8264487 , 0.17355125], dtype=float32)},\n {'class_ids': array([1], dtype=int64),\n  'classes': array([b'1'], dtype=object),\n  'logistic': array([0.55521476], dtype=float32),\n  'logits': array([0.22176349], dtype=float32),\n  'probabilities': array([0.4447852 , 0.55521476], dtype=float32)},\n {'class_ids': array([1], dtype=int64),\n  'classes': array([b'1'], dtype=object),\n  'logistic': array([0.5991319], dtype=float32),\n  'logits': array([0.40184927], dtype=float32),\n  'probabilities': array([0.4008681, 0.5991319], dtype=float32)},\n {'class_ids': array([1], dtype=int64),\n  'classes': array([b'1'], dtype=object),\n  'logistic': array([0.56211776], dtype=float32),\n  'logits': array([0.24976122], dtype=float32),\n  'probabilities': array([0.43788227, 0.56211776], dtype=float32)},\n {'class_ids': array([0], dtype=int64),\n  'classes': array([b'0'], dtype=object),\n  'logistic': array([0.1801429], dtype=float32),\n  'logits': array([-1.5153797], dtype=float32),\n  'probabilities': array([0.81985706, 0.18014288], dtype=float32)},\n {'class_ids': array([0], dtype=int64),\n  'classes': array([b'0'], dtype=object),\n  'logistic': array([0.3579074], dtype=float32),\n  'logits': array([-0.58445823], dtype=float32),\n  'probabilities': array([0.6420926 , 0.35790738], dtype=float32)},\n {'class_ids': array([0], dtype=int64),\n  'classes': array([b'0'], dtype=object),\n  'logistic': array([0.1512464], dtype=float32),\n  'logits': array([-1.7248586], dtype=float32),\n  'probabilities': array([0.84875363, 0.15124641], dtype=float32)},\n {'class_ids': array([1], dtype=int64),\n  'classes': array([b'1'], dtype=object),\n  'logistic': array([0.7169291], dtype=float32),\n  'logits': array([0.9292793], dtype=float32),\n  'probabilities': array([0.28307095, 0.7169291 ], dtype=float32)},\n {'class_ids': array([1], dtype=int64),\n  'classes': array([b'1'], dtype=object),\n  'logistic': array([0.8399939], dtype=float32),\n  'logits': array([1.6581823], dtype=float32),\n  'probabilities': array([0.16000617, 0.8399939 ], dtype=float32)},\n {'class_ids': array([1], dtype=int64),\n  'classes': array([b'1'], dtype=object),\n  'logistic': array([0.623696], dtype=float32),\n  'logits': array([0.50526595], dtype=float32),\n  'probabilities': array([0.37630394, 0.623696  ], dtype=float32)},\n {'class_ids': array([0], dtype=int64),\n  'classes': array([b'0'], dtype=object),\n  'logistic': array([0.22153638], dtype=float32),\n  'logits': array([-1.2567354], dtype=float32),\n  'probabilities': array([0.7784636 , 0.22153637], dtype=float32)},\n {'class_ids': array([0], dtype=int64),\n  'classes': array([b'0'], dtype=object),\n  'logistic': array([0.44251183], dtype=float32),\n  'logits': array([-0.23097402], dtype=float32),\n  'probabilities': array([0.55748814, 0.44251183], dtype=float32)},\n {'class_ids': array([0], dtype=int64),\n  'classes': array([b'0'], dtype=object),\n  'logistic': array([0.38888973], dtype=float32),\n  'logits': array([-0.4519816], dtype=float32),\n  'probabilities': array([0.61111027, 0.38888973], dtype=float32)},\n {'class_ids': array([0], dtype=int64),\n  'classes': array([b'0'], dtype=object),\n  'logistic': array([0.47078207], dtype=float32),\n  'logits': array([-0.11700499], dtype=float32),\n  'probabilities': array([0.52921796, 0.4707821 ], dtype=float32)},\n {'class_ids': array([0], dtype=int64),\n  'classes': array([b'0'], dtype=object),\n  'logistic': array([0.34896472], dtype=float32),\n  'logits': array([-0.6235931], dtype=float32),\n  'probabilities': array([0.6510353 , 0.34896472], dtype=float32)},\n {'class_ids': array([0], dtype=int64),\n  'classes': array([b'0'], dtype=object),\n  'logistic': array([0.46770057], dtype=float32),\n  'logits': array([-0.12937784], dtype=float32),\n  'probabilities': array([0.53229946, 0.4677006 ], dtype=float32)},\n {'class_ids': array([0], dtype=int64),\n  'classes': array([b'0'], dtype=object),\n  'logistic': array([0.16581938], dtype=float32),\n  'logits': array([-1.6155509], dtype=float32),\n  'probabilities': array([0.83418065, 0.16581938], dtype=float32)},\n {'class_ids': array([1], dtype=int64),\n  'classes': array([b'1'], dtype=object),\n  'logistic': array([0.5574694], dtype=float32),\n  'logits': array([0.23089802], dtype=float32),\n  'probabilities': array([0.4425306, 0.5574694], dtype=float32)},\n {'class_ids': array([1], dtype=int64),\n  'classes': array([b'1'], dtype=object),\n  'logistic': array([0.55468667], dtype=float32),\n  'logits': array([0.21962523], dtype=float32),\n  'probabilities': array([0.44531333, 0.55468667], dtype=float32)},\n {'class_ids': array([0], dtype=int64),\n  'classes': array([b'0'], dtype=object),\n  'logistic': array([0.25034142], dtype=float32),\n  'logits': array([-1.0967923], dtype=float32),\n  'probabilities': array([0.74965864, 0.25034142], dtype=float32)},\n {'class_ids': array([0], dtype=int64),\n  'classes': array([b'0'], dtype=object),\n  'logistic': array([0.18581167], dtype=float32),\n  'logits': array([-1.4774581], dtype=float32),\n  'probabilities': array([0.81418836, 0.18581167], dtype=float32)},\n {'class_ids': array([0], dtype=int64),\n  'classes': array([b'0'], dtype=object),\n  'logistic': array([0.18489628], dtype=float32),\n  'logits': array([-1.4835204], dtype=float32),\n  'probabilities': array([0.8151037 , 0.18489628], dtype=float32)},\n {'class_ids': array([0], dtype=int64),\n  'classes': array([b'0'], dtype=object),\n  'logistic': array([0.28804824], dtype=float32),\n  'logits': array([-0.9048822], dtype=float32),\n  'probabilities': array([0.7119518 , 0.28804824], dtype=float32)},\n {'class_ids': array([0], dtype=int64),\n  'classes': array([b'0'], dtype=object),\n  'logistic': array([0.4083664], dtype=float32),\n  'logits': array([-0.37072265], dtype=float32),\n  'probabilities': array([0.59163356, 0.4083664 ], dtype=float32)},\n {'class_ids': array([0], dtype=int64),\n  'classes': array([b'0'], dtype=object),\n  'logistic': array([0.14427598], dtype=float32),\n  'logits': array([-1.78022], dtype=float32),\n  'probabilities': array([0.85572404, 0.14427598], dtype=float32)},\n {'class_ids': array([0], dtype=int64),\n  'classes': array([b'0'], dtype=object),\n  'logistic': array([0.330265], dtype=float32),\n  'logits': array([-0.7069867], dtype=float32),\n  'probabilities': array([0.669735  , 0.33026502], dtype=float32)},\n {'class_ids': array([0], dtype=int64),\n  'classes': array([b'0'], dtype=object),\n  'logistic': array([0.23298764], dtype=float32),\n  'logits': array([-1.1915175], dtype=float32),\n  'probabilities': array([0.76701236, 0.23298764], dtype=float32)},\n {'class_ids': array([0], dtype=int64),\n  'classes': array([b'0'], dtype=object),\n  'logistic': array([0.09762723], dtype=float32),\n  'logits': array([-2.2238712], dtype=float32),\n  'probabilities': array([0.9023728 , 0.09762723], dtype=float32)},\n {'class_ids': array([0], dtype=int64),\n  'classes': array([b'0'], dtype=object),\n  'logistic': array([0.12576611], dtype=float32),\n  'logits': array([-1.938924], dtype=float32),\n  'probabilities': array([0.8742339 , 0.12576613], dtype=float32)},\n {'class_ids': array([1], dtype=int64),\n  'classes': array([b'1'], dtype=object),\n  'logistic': array([0.7689965], dtype=float32),\n  'logits': array([1.2026535], dtype=float32),\n  'probabilities': array([0.23100351, 0.7689965 ], dtype=float32)},\n {'class_ids': array([0], dtype=int64),\n  'classes': array([b'0'], dtype=object),\n  'logistic': array([0.19049326], dtype=float32),\n  'logits': array([-1.4468083], dtype=float32),\n  'probabilities': array([0.8095068 , 0.19049326], dtype=float32)},\n {'class_ids': array([0], dtype=int64),\n  'classes': array([b'0'], dtype=object),\n  'logistic': array([0.13888086], dtype=float32),\n  'logits': array([-1.8246164], dtype=float32),\n  'probabilities': array([0.86111915, 0.13888086], dtype=float32)},\n {'class_ids': array([0], dtype=int64),\n  'classes': array([b'0'], dtype=object),\n  'logistic': array([0.1432977], dtype=float32),\n  'logits': array([-1.7881662], dtype=float32),\n  'probabilities': array([0.8567023 , 0.14329772], dtype=float32)},\n {'class_ids': array([0], dtype=int64),\n  'classes': array([b'0'], dtype=object),\n  'logistic': array([0.49785033], dtype=float32),\n  'logits': array([-0.00859869], dtype=float32),\n  'probabilities': array([0.50214964, 0.4978503 ], dtype=float32)},\n {'class_ids': array([0], dtype=int64),\n  'classes': array([b'0'], dtype=object),\n  'logistic': array([0.47676057], dtype=float32),\n  'logits': array([-0.09302479], dtype=float32),\n  'probabilities': array([0.52323943, 0.47676054], dtype=float32)},\n {'class_ids': array([0], dtype=int64),\n  'classes': array([b'0'], dtype=object),\n  'logistic': array([0.2540534], dtype=float32),\n  'logits': array([-1.0771095], dtype=float32),\n  'probabilities': array([0.7459466, 0.2540534], dtype=float32)},\n {'class_ids': array([0], dtype=int64),\n  'classes': array([b'0'], dtype=object),\n  'logistic': array([0.44733015], dtype=float32),\n  'logits': array([-0.21146387], dtype=float32),\n  'probabilities': array([0.5526698 , 0.44733015], dtype=float32)},\n {'class_ids': array([0], dtype=int64),\n  'classes': array([b'0'], dtype=object),\n  'logistic': array([0.1914218], dtype=float32),\n  'logits': array([-1.440798], dtype=float32),\n  'probabilities': array([0.8085782 , 0.19142179], dtype=float32)},\n {'class_ids': array([0], dtype=int64),\n  'classes': array([b'0'], dtype=object),\n  'logistic': array([0.23345594], dtype=float32),\n  'logits': array([-1.1888988], dtype=float32),\n  'probabilities': array([0.76654404, 0.23345594], dtype=float32)},\n {'class_ids': array([1], dtype=int64),\n  'classes': array([b'1'], dtype=object),\n  'logistic': array([0.5155254], dtype=float32),\n  'logits': array([0.06212163], dtype=float32),\n  'probabilities': array([0.48447457, 0.5155254 ], dtype=float32)},\n {'class_ids': array([0], dtype=int64),\n  'classes': array([b'0'], dtype=object),\n  'logistic': array([0.4954273], dtype=float32),\n  'logits': array([-0.01829123], dtype=float32),\n  'probabilities': array([0.5045727 , 0.49542734], dtype=float32)},\n {'class_ids': array([0], dtype=int64),\n  'classes': array([b'0'], dtype=object),\n  'logistic': array([0.14780648], dtype=float32),\n  'logits': array([-1.7519097], dtype=float32),\n  'probabilities': array([0.85219353, 0.14780648], dtype=float32)},\n {'class_ids': array([0], dtype=int64),\n  'classes': array([b'0'], dtype=object),\n  'logistic': array([0.3992003], dtype=float32),\n  'logits': array([-0.40879846], dtype=float32),\n  'probabilities': array([0.60079974, 0.39920026], dtype=float32)},\n {'class_ids': array([1], dtype=int64),\n  'classes': array([b'1'], dtype=object),\n  'logistic': array([0.7145257], dtype=float32),\n  'logits': array([0.9174669], dtype=float32),\n  'probabilities': array([0.28547433, 0.7145257 ], dtype=float32)},\n {'class_ids': array([1], dtype=int64),\n  'classes': array([b'1'], dtype=object),\n  'logistic': array([0.5578421], dtype=float32),\n  'logits': array([0.23240876], dtype=float32),\n  'probabilities': array([0.44215795, 0.5578421 ], dtype=float32)},\n {'class_ids': array([0], dtype=int64),\n  'classes': array([b'0'], dtype=object),\n  'logistic': array([0.41399008], dtype=float32),\n  'logits': array([-0.34749484], dtype=float32),\n  'probabilities': array([0.5860099 , 0.41399002], dtype=float32)},\n {'class_ids': array([1], dtype=int64),\n  'classes': array([b'1'], dtype=object),\n  'logistic': array([0.56790787], dtype=float32),\n  'logits': array([0.27332032], dtype=float32),\n  'probabilities': array([0.43209213, 0.56790787], dtype=float32)},\n {'class_ids': array([0], dtype=int64),\n  'classes': array([b'0'], dtype=object),\n  'logistic': array([0.23187688], dtype=float32),\n  'logits': array([-1.1977435], dtype=float32),\n  'probabilities': array([0.7681231 , 0.23187685], dtype=float32)},\n {'class_ids': array([0], dtype=int64),\n  'classes': array([b'0'], dtype=object),\n  'logistic': array([0.20122978], dtype=float32),\n  'logits': array([-1.3786259], dtype=float32),\n  'probabilities': array([0.7987702 , 0.20122977], dtype=float32)},\n {'class_ids': array([0], dtype=int64),\n  'classes': array([b'0'], dtype=object),\n  'logistic': array([0.14017478], dtype=float32),\n  'logits': array([-1.8138391], dtype=float32),\n  'probabilities': array([0.85982525, 0.14017479], dtype=float32)},\n {'class_ids': array([0], dtype=int64),\n  'classes': array([b'0'], dtype=object),\n  'logistic': array([0.26592588], dtype=float32),\n  'logits': array([-1.0153923], dtype=float32),\n  'probabilities': array([0.73407406, 0.26592588], dtype=float32)},\n {'class_ids': array([0], dtype=int64),\n  'classes': array([b'0'], dtype=object),\n  'logistic': array([0.48226467], dtype=float32),\n  'logits': array([-0.07097113], dtype=float32),\n  'probabilities': array([0.51773536, 0.48226467], dtype=float32)},\n {'class_ids': array([1], dtype=int64),\n  'classes': array([b'1'], dtype=object),\n  'logistic': array([0.7163307], dtype=float32),\n  'logits': array([0.92633307], dtype=float32),\n  'probabilities': array([0.28366923, 0.7163307 ], dtype=float32)},\n {'class_ids': array([0], dtype=int64),\n  'classes': array([b'0'], dtype=object),\n  'logistic': array([0.2319574], dtype=float32),\n  'logits': array([-1.1972915], dtype=float32),\n  'probabilities': array([0.76804256, 0.23195738], dtype=float32)},\n {'class_ids': array([0], dtype=int64),\n  'classes': array([b'0'], dtype=object),\n  'logistic': array([0.16232195], dtype=float32),\n  'logits': array([-1.641052], dtype=float32),\n  'probabilities': array([0.837678  , 0.16232197], dtype=float32)},\n {'class_ids': array([0], dtype=int64),\n  'classes': array([b'0'], dtype=object),\n  'logistic': array([0.423626], dtype=float32),\n  'logits': array([-0.30790573], dtype=float32),\n  'probabilities': array([0.576374  , 0.42362604], dtype=float32)},\n {'class_ids': array([0], dtype=int64),\n  'classes': array([b'0'], dtype=object),\n  'logistic': array([0.24630238], dtype=float32),\n  'logits': array([-1.1184313], dtype=float32),\n  'probabilities': array([0.75369763, 0.24630238], dtype=float32)},\n {'class_ids': array([0], dtype=int64),\n  'classes': array([b'0'], dtype=object),\n  'logistic': array([0.15621427], dtype=float32),\n  'logits': array([-1.6866701], dtype=float32),\n  'probabilities': array([0.8437857 , 0.15621425], dtype=float32)},\n {'class_ids': array([0], dtype=int64),\n  'classes': array([b'0'], dtype=object),\n  'logistic': array([0.19220643], dtype=float32),\n  'logits': array([-1.4357367], dtype=float32),\n  'probabilities': array([0.80779356, 0.19220641], dtype=float32)},\n {'class_ids': array([0], dtype=int64),\n  'classes': array([b'0'], dtype=object),\n  'logistic': array([0.12681863], dtype=float32),\n  'logits': array([-1.9293854], dtype=float32),\n  'probabilities': array([0.87318134, 0.12681861], dtype=float32)},\n {'class_ids': array([0], dtype=int64),\n  'classes': array([b'0'], dtype=object),\n  'logistic': array([0.40762755], dtype=float32),\n  'logits': array([-0.37378174], dtype=float32),\n  'probabilities': array([0.5923725 , 0.40762755], dtype=float32)},\n {'class_ids': array([1], dtype=int64),\n  'classes': array([b'1'], dtype=object),\n  'logistic': array([0.80100864], dtype=float32),\n  'logits': array([1.3926102], dtype=float32),\n  'probabilities': array([0.19899139, 0.80100864], dtype=float32)},\n {'class_ids': array([1], dtype=int64),\n  'classes': array([b'1'], dtype=object),\n  'logistic': array([0.76764137], dtype=float32),\n  'logits': array([1.1950403], dtype=float32),\n  'probabilities': array([0.23235871, 0.76764137], dtype=float32)},\n {'class_ids': array([1], dtype=int64),\n  'classes': array([b'1'], dtype=object),\n  'logistic': array([0.56115013], dtype=float32),\n  'logits': array([0.24583113], dtype=float32),\n  'probabilities': array([0.43884987, 0.56115013], dtype=float32)},\n {'class_ids': array([0], dtype=int64),\n  'classes': array([b'0'], dtype=object),\n  'logistic': array([0.49693862], dtype=float32),\n  'logits': array([-0.01224577], dtype=float32),\n  'probabilities': array([0.5030614 , 0.49693862], dtype=float32)},\n {'class_ids': array([1], dtype=int64),\n  'classes': array([b'1'], dtype=object),\n  'logistic': array([0.5616852], dtype=float32),\n  'logits': array([0.2480042], dtype=float32),\n  'probabilities': array([0.4383148, 0.5616852], dtype=float32)},\n {'class_ids': array([0], dtype=int64),\n  'classes': array([b'0'], dtype=object),\n  'logistic': array([0.12310211], dtype=float32),\n  'logits': array([-1.9633764], dtype=float32),\n  'probabilities': array([0.87689793, 0.12310211], dtype=float32)},\n {'class_ids': array([1], dtype=int64),\n  'classes': array([b'1'], dtype=object),\n  'logistic': array([0.54107404], dtype=float32),\n  'logits': array([0.16466725], dtype=float32),\n  'probabilities': array([0.45892596, 0.54107404], dtype=float32)},\n {'class_ids': array([1], dtype=int64),\n  'classes': array([b'1'], dtype=object),\n  'logistic': array([0.7885185], dtype=float32),\n  'logits': array([1.316018], dtype=float32),\n  'probabilities': array([0.21148159, 0.7885185 ], dtype=float32)},\n {'class_ids': array([0], dtype=int64),\n  'classes': array([b'0'], dtype=object),\n  'logistic': array([0.4093465], dtype=float32),\n  'logits': array([-0.36666775], dtype=float32),\n  'probabilities': array([0.59065354, 0.40934646], dtype=float32)},\n {'class_ids': array([0], dtype=int64),\n  'classes': array([b'0'], dtype=object),\n  'logistic': array([0.27812424], dtype=float32),\n  'logits': array([-0.9537852], dtype=float32),\n  'probabilities': array([0.7218758, 0.2781242], dtype=float32)},\n {'class_ids': array([0], dtype=int64),\n  'classes': array([b'0'], dtype=object),\n  'logistic': array([0.36485195], dtype=float32),\n  'logits': array([-0.55436647], dtype=float32),\n  'probabilities': array([0.63514805, 0.36485195], dtype=float32)},\n {'class_ids': array([1], dtype=int64),\n  'classes': array([b'1'], dtype=object),\n  'logistic': array([0.5932378], dtype=float32),\n  'logits': array([0.37736666], dtype=float32),\n  'probabilities': array([0.4067622, 0.5932378], dtype=float32)},\n {'class_ids': array([0], dtype=int64),\n  'classes': array([b'0'], dtype=object),\n  'logistic': array([0.2540856], dtype=float32),\n  'logits': array([-1.0769396], dtype=float32),\n  'probabilities': array([0.74591434, 0.2540856 ], dtype=float32)},\n {'class_ids': array([1], dtype=int64),\n  'classes': array([b'1'], dtype=object),\n  'logistic': array([0.65836334], dtype=float32),\n  'logits': array([0.65600944], dtype=float32),\n  'probabilities': array([0.34163657, 0.65836334], dtype=float32)},\n {'class_ids': array([0], dtype=int64),\n  'classes': array([b'0'], dtype=object),\n  'logistic': array([0.40736985], dtype=float32),\n  'logits': array([-0.37484902], dtype=float32),\n  'probabilities': array([0.59263015, 0.40736985], dtype=float32)},\n {'class_ids': array([0], dtype=int64),\n  'classes': array([b'0'], dtype=object),\n  'logistic': array([0.4171128], dtype=float32),\n  'logits': array([-0.33463705], dtype=float32),\n  'probabilities': array([0.58288723, 0.4171128 ], dtype=float32)},\n {'class_ids': array([0], dtype=int64),\n  'classes': array([b'0'], dtype=object),\n  'logistic': array([0.17364305], dtype=float32),\n  'logits': array([-1.560025], dtype=float32),\n  'probabilities': array([0.82635695, 0.17364307], dtype=float32)},\n {'class_ids': array([0], dtype=int64),\n  'classes': array([b'0'], dtype=object),\n  'logistic': array([0.1971627], dtype=float32),\n  'logits': array([-1.4041228], dtype=float32),\n  'probabilities': array([0.8028373, 0.1971627], dtype=float32)},\n {'class_ids': array([0], dtype=int64),\n  'classes': array([b'0'], dtype=object),\n  'logistic': array([0.18523608], dtype=float32),\n  'logits': array([-1.4812672], dtype=float32),\n  'probabilities': array([0.8147639 , 0.18523608], dtype=float32)},\n {'class_ids': array([0], dtype=int64),\n  'classes': array([b'0'], dtype=object),\n  'logistic': array([0.4503503], dtype=float32),\n  'logits': array([-0.19925535], dtype=float32),\n  'probabilities': array([0.54964966, 0.4503503 ], dtype=float32)},\n {'class_ids': array([0], dtype=int64),\n  'classes': array([b'0'], dtype=object),\n  'logistic': array([0.16106221], dtype=float32),\n  'logits': array([-1.6503458], dtype=float32),\n  'probabilities': array([0.8389378 , 0.16106223], dtype=float32)},\n {'class_ids': array([1], dtype=int64),\n  'classes': array([b'1'], dtype=object),\n  'logistic': array([0.74112654], dtype=float32),\n  'logits': array([1.0518318], dtype=float32),\n  'probabilities': array([0.25887352, 0.74112654], dtype=float32)},\n {'class_ids': array([0], dtype=int64),\n  'classes': array([b'0'], dtype=object),\n  'logistic': array([0.2169184], dtype=float32),\n  'logits': array([-1.2837157], dtype=float32),\n  'probabilities': array([0.7830816, 0.2169184], dtype=float32)},\n {'class_ids': array([1], dtype=int64),\n  'classes': array([b'1'], dtype=object),\n  'logistic': array([0.5164304], dtype=float32),\n  'logits': array([0.06574512], dtype=float32),\n  'probabilities': array([0.48356965, 0.5164304 ], dtype=float32)},\n {'class_ids': array([0], dtype=int64),\n  'classes': array([b'0'], dtype=object),\n  'logistic': array([0.16492526], dtype=float32),\n  'logits': array([-1.6220288], dtype=float32),\n  'probabilities': array([0.8350747 , 0.16492526], dtype=float32)},\n {'class_ids': array([1], dtype=int64),\n  'classes': array([b'1'], dtype=object),\n  'logistic': array([0.670063], dtype=float32),\n  'logits': array([0.7084701], dtype=float32),\n  'probabilities': array([0.32993698, 0.670063  ], dtype=float32)},\n {'class_ids': array([0], dtype=int64),\n  'classes': array([b'0'], dtype=object),\n  'logistic': array([0.3418789], dtype=float32),\n  'logits': array([-0.6549324], dtype=float32),\n  'probabilities': array([0.6581211, 0.3418789], dtype=float32)},\n {'class_ids': array([0], dtype=int64),\n  'classes': array([b'0'], dtype=object),\n  'logistic': array([0.20184785], dtype=float32),\n  'logits': array([-1.374785], dtype=float32),\n  'probabilities': array([0.79815215, 0.20184788], dtype=float32)},\n {'class_ids': array([0], dtype=int64),\n  'classes': array([b'0'], dtype=object),\n  'logistic': array([0.35586354], dtype=float32),\n  'logits': array([-0.5933633], dtype=float32),\n  'probabilities': array([0.6441365 , 0.35586354], dtype=float32)},\n {'class_ids': array([0], dtype=int64),\n  'classes': array([b'0'], dtype=object),\n  'logistic': array([0.33496487], dtype=float32),\n  'logits': array([-0.6858142], dtype=float32),\n  'probabilities': array([0.6650351, 0.3349649], dtype=float32)},\n {'class_ids': array([0], dtype=int64),\n  'classes': array([b'0'], dtype=object),\n  'logistic': array([0.17190349], dtype=float32),\n  'logits': array([-1.5721965], dtype=float32),\n  'probabilities': array([0.8280965 , 0.17190349], dtype=float32)},\n {'class_ids': array([1], dtype=int64),\n  'classes': array([b'1'], dtype=object),\n  'logistic': array([0.74372935], dtype=float32),\n  'logits': array([1.0654432], dtype=float32),\n  'probabilities': array([0.25627062, 0.74372935], dtype=float32)},\n {'class_ids': array([0], dtype=int64),\n  'classes': array([b'0'], dtype=object),\n  'logistic': array([0.196537], dtype=float32),\n  'logits': array([-1.4080805], dtype=float32),\n  'probabilities': array([0.80346304, 0.196537  ], dtype=float32)},\n {'class_ids': array([0], dtype=int64),\n  'classes': array([b'0'], dtype=object),\n  'logistic': array([0.17751239], dtype=float32),\n  'logits': array([-1.533293], dtype=float32),\n  'probabilities': array([0.8224876 , 0.17751238], dtype=float32)},\n {'class_ids': array([0], dtype=int64),\n  'classes': array([b'0'], dtype=object),\n  'logistic': array([0.26788536], dtype=float32),\n  'logits': array([-1.005378], dtype=float32),\n  'probabilities': array([0.7321147 , 0.26788536], dtype=float32)},\n {'class_ids': array([0], dtype=int64),\n  'classes': array([b'0'], dtype=object),\n  'logistic': array([0.4492343], dtype=float32),\n  'logits': array([-0.2037648], dtype=float32),\n  'probabilities': array([0.5507657 , 0.44923434], dtype=float32)},\n {'class_ids': array([0], dtype=int64),\n  'classes': array([b'0'], dtype=object),\n  'logistic': array([0.28755522], dtype=float32),\n  'logits': array([-0.90728754], dtype=float32),\n  'probabilities': array([0.7124448 , 0.28755522], dtype=float32)},\n {'class_ids': array([0], dtype=int64),\n  'classes': array([b'0'], dtype=object),\n  'logistic': array([0.11993463], dtype=float32),\n  'logits': array([-1.9930494], dtype=float32),\n  'probabilities': array([0.8800654 , 0.11993463], dtype=float32)},\n {'class_ids': array([1], dtype=int64),\n  'classes': array([b'1'], dtype=object),\n  'logistic': array([0.84712183], dtype=float32),\n  'logits': array([1.7122034], dtype=float32),\n  'probabilities': array([0.15287815, 0.84712183], dtype=float32)},\n {'class_ids': array([1], dtype=int64),\n  'classes': array([b'1'], dtype=object),\n  'logistic': array([0.6846217], dtype=float32),\n  'logits': array([0.7750937], dtype=float32),\n  'probabilities': array([0.31537828, 0.6846217 ], dtype=float32)},\n {'class_ids': array([1], dtype=int64),\n  'classes': array([b'1'], dtype=object),\n  'logistic': array([0.5304193], dtype=float32),\n  'logits': array([0.12182772], dtype=float32),\n  'probabilities': array([0.46958065, 0.5304193 ], dtype=float32)},\n {'class_ids': array([1], dtype=int64),\n  'classes': array([b'1'], dtype=object),\n  'logistic': array([0.74497706], dtype=float32),\n  'logits': array([1.0719999], dtype=float32),\n  'probabilities': array([0.25502294, 0.74497706], dtype=float32)},\n {'class_ids': array([0], dtype=int64),\n  'classes': array([b'0'], dtype=object),\n  'logistic': array([0.1160613], dtype=float32),\n  'logits': array([-2.0302691], dtype=float32),\n  'probabilities': array([0.88393867, 0.11606131], dtype=float32)},\n {'class_ids': array([0], dtype=int64),\n  'classes': array([b'0'], dtype=object),\n  'logistic': array([0.15583204], dtype=float32),\n  'logits': array([-1.6895728], dtype=float32),\n  'probabilities': array([0.844168  , 0.15583202], dtype=float32)},\n {'class_ids': array([0], dtype=int64),\n  'classes': array([b'0'], dtype=object),\n  'logistic': array([0.21233757], dtype=float32),\n  'logits': array([-1.3108923], dtype=float32),\n  'probabilities': array([0.78766245, 0.21233755], dtype=float32)},\n {'class_ids': array([0], dtype=int64),\n  'classes': array([b'0'], dtype=object),\n  'logistic': array([0.35340032], dtype=float32),\n  'logits': array([-0.6041259], dtype=float32),\n  'probabilities': array([0.6465997 , 0.35340032], dtype=float32)},\n {'class_ids': array([0], dtype=int64),\n  'classes': array([b'0'], dtype=object),\n  'logistic': array([0.3882949], dtype=float32),\n  'logits': array([-0.45448524], dtype=float32),\n  'probabilities': array([0.61170506, 0.38829485], dtype=float32)},\n {'class_ids': array([1], dtype=int64),\n  'classes': array([b'1'], dtype=object),\n  'logistic': array([0.6107688], dtype=float32),\n  'logits': array([0.45054495], dtype=float32),\n  'probabilities': array([0.3892312, 0.6107688], dtype=float32)},\n {'class_ids': array([1], dtype=int64),\n  'classes': array([b'1'], dtype=object),\n  'logistic': array([0.5506934], dtype=float32),\n  'logits': array([0.20347273], dtype=float32),\n  'probabilities': array([0.44930658, 0.5506934 ], dtype=float32)},\n {'class_ids': array([0], dtype=int64),\n  'classes': array([b'0'], dtype=object),\n  'logistic': array([0.38256752], dtype=float32),\n  'logits': array([-0.47866452], dtype=float32),\n  'probabilities': array([0.6174325 , 0.38256752], dtype=float32)},\n {'class_ids': array([0], dtype=int64),\n  'classes': array([b'0'], dtype=object),\n  'logistic': array([0.37644833], dtype=float32),\n  'logits': array([-0.5046509], dtype=float32),\n  'probabilities': array([0.62355167, 0.3764483 ], dtype=float32)},\n {'class_ids': array([0], dtype=int64),\n  'classes': array([b'0'], dtype=object),\n  'logistic': array([0.35816535], dtype=float32),\n  'logits': array([-0.583336], dtype=float32),\n  'probabilities': array([0.6418346 , 0.35816532], dtype=float32)},\n {'class_ids': array([0], dtype=int64),\n  'classes': array([b'0'], dtype=object),\n  'logistic': array([0.19723861], dtype=float32),\n  'logits': array([-1.4036433], dtype=float32),\n  'probabilities': array([0.80276144, 0.19723862], dtype=float32)},\n {'class_ids': array([1], dtype=int64),\n  'classes': array([b'1'], dtype=object),\n  'logistic': array([0.6724324], dtype=float32),\n  'logits': array([0.7192073], dtype=float32),\n  'probabilities': array([0.32756758, 0.6724324 ], dtype=float32)},\n {'class_ids': array([0], dtype=int64),\n  'classes': array([b'0'], dtype=object),\n  'logistic': array([0.1307919], dtype=float32),\n  'logits': array([-1.893975], dtype=float32),\n  'probabilities': array([0.8692081, 0.1307919], dtype=float32)},\n {'class_ids': array([0], dtype=int64),\n  'classes': array([b'0'], dtype=object),\n  'logistic': array([0.26210994], dtype=float32),\n  'logits': array([-1.0350308], dtype=float32),\n  'probabilities': array([0.73789006, 0.26210994], dtype=float32)},\n {'class_ids': array([1], dtype=int64),\n  'classes': array([b'1'], dtype=object),\n  'logistic': array([0.5727843], dtype=float32),\n  'logits': array([0.29322028], dtype=float32),\n  'probabilities': array([0.42721567, 0.5727843 ], dtype=float32)},\n {'class_ids': array([0], dtype=int64),\n  'classes': array([b'0'], dtype=object),\n  'logistic': array([0.37550798], dtype=float32),\n  'logits': array([-0.50865877], dtype=float32),\n  'probabilities': array([0.624492, 0.375508], dtype=float32)},\n {'class_ids': array([0], dtype=int64),\n  'classes': array([b'0'], dtype=object),\n  'logistic': array([0.19890484], dtype=float32),\n  'logits': array([-1.3931532], dtype=float32),\n  'probabilities': array([0.8010952 , 0.19890486], dtype=float32)},\n {'class_ids': array([0], dtype=int64),\n  'classes': array([b'0'], dtype=object),\n  'logistic': array([0.28693599], dtype=float32),\n  'logits': array([-0.91031206], dtype=float32),\n  'probabilities': array([0.713064  , 0.28693599], dtype=float32)},\n {'class_ids': array([0], dtype=int64),\n  'classes': array([b'0'], dtype=object),\n  'logistic': array([0.2755974], dtype=float32),\n  'logits': array([-0.9664063], dtype=float32),\n  'probabilities': array([0.7244026, 0.2755974], dtype=float32)},\n {'class_ids': array([0], dtype=int64),\n  'classes': array([b'0'], dtype=object),\n  'logistic': array([0.13877264], dtype=float32),\n  'logits': array([-1.8255217], dtype=float32),\n  'probabilities': array([0.8612274 , 0.13877264], dtype=float32)},\n {'class_ids': array([0], dtype=int64),\n  'classes': array([b'0'], dtype=object),\n  'logistic': array([0.19088508], dtype=float32),\n  'logits': array([-1.4442694], dtype=float32),\n  'probabilities': array([0.80911493, 0.19088508], dtype=float32)},\n {'class_ids': array([1], dtype=int64),\n  'classes': array([b'1'], dtype=object),\n  'logistic': array([0.5693683], dtype=float32),\n  'logits': array([0.27927423], dtype=float32),\n  'probabilities': array([0.43063173, 0.5693683 ], dtype=float32)},\n {'class_ids': array([1], dtype=int64),\n  'classes': array([b'1'], dtype=object),\n  'logistic': array([0.70390016], dtype=float32),\n  'logits': array([0.86594], dtype=float32),\n  'probabilities': array([0.2960998 , 0.70390016], dtype=float32)},\n {'class_ids': array([1], dtype=int64),\n  'classes': array([b'1'], dtype=object),\n  'logistic': array([0.61864895], dtype=float32),\n  'logits': array([0.48381758], dtype=float32),\n  'probabilities': array([0.38135105, 0.61864895], dtype=float32)},\n {'class_ids': array([1], dtype=int64),\n  'classes': array([b'1'], dtype=object),\n  'logistic': array([0.7329435], dtype=float32),\n  'logits': array([1.0096084], dtype=float32),\n  'probabilities': array([0.2670565, 0.7329435], dtype=float32)},\n {'class_ids': array([0], dtype=int64),\n  'classes': array([b'0'], dtype=object),\n  'logistic': array([0.4643662], dtype=float32),\n  'logits': array([-0.14277744], dtype=float32),\n  'probabilities': array([0.53563386, 0.46436617], dtype=float32)},\n {'class_ids': array([0], dtype=int64),\n  'classes': array([b'0'], dtype=object),\n  'logistic': array([0.29602137], dtype=float32),\n  'logits': array([-0.8663163], dtype=float32),\n  'probabilities': array([0.70397866, 0.2960214 ], dtype=float32)},\n {'class_ids': array([1], dtype=int64),\n  'classes': array([b'1'], dtype=object),\n  'logistic': array([0.51355326], dtype=float32),\n  'logits': array([0.0542264], dtype=float32),\n  'probabilities': array([0.4864467 , 0.51355326], dtype=float32)},\n {'class_ids': array([0], dtype=int64),\n  'classes': array([b'0'], dtype=object),\n  'logistic': array([0.19098325], dtype=float32),\n  'logits': array([-1.4436338], dtype=float32),\n  'probabilities': array([0.80901676, 0.19098327], dtype=float32)},\n {'class_ids': array([0], dtype=int64),\n  'classes': array([b'0'], dtype=object),\n  'logistic': array([0.14856105], dtype=float32),\n  'logits': array([-1.7459319], dtype=float32),\n  'probabilities': array([0.85143894, 0.14856103], dtype=float32)},\n {'class_ids': array([0], dtype=int64),\n  'classes': array([b'0'], dtype=object),\n  'logistic': array([0.19282934], dtype=float32),\n  'logits': array([-1.4317296], dtype=float32),\n  'probabilities': array([0.8071706 , 0.19282934], dtype=float32)},\n {'class_ids': array([1], dtype=int64),\n  'classes': array([b'1'], dtype=object),\n  'logistic': array([0.51990604], dtype=float32),\n  'logits': array([0.07966638], dtype=float32),\n  'probabilities': array([0.4800939 , 0.51990604], dtype=float32)},\n {'class_ids': array([0], dtype=int64),\n  'classes': array([b'0'], dtype=object),\n  'logistic': array([0.06589419], dtype=float32),\n  'logits': array([-2.6515393], dtype=float32),\n  'probabilities': array([0.93410575, 0.06589419], dtype=float32)},\n {'class_ids': array([0], dtype=int64),\n  'classes': array([b'0'], dtype=object),\n  'logistic': array([0.29764998], dtype=float32),\n  'logits': array([-0.85851365], dtype=float32),\n  'probabilities': array([0.70235   , 0.29764998], dtype=float32)},\n {'class_ids': array([0], dtype=int64),\n  'classes': array([b'0'], dtype=object),\n  'logistic': array([0.17267528], dtype=float32),\n  'logits': array([-1.5667844], dtype=float32),\n  'probabilities': array([0.82732475, 0.1726753 ], dtype=float32)},\n {'class_ids': array([0], dtype=int64),\n  'classes': array([b'0'], dtype=object),\n  'logistic': array([0.277358], dtype=float32),\n  'logits': array([-0.9576049], dtype=float32),\n  'probabilities': array([0.72264206, 0.27735803], dtype=float32)},\n {'class_ids': array([0], dtype=int64),\n  'classes': array([b'0'], dtype=object),\n  'logistic': array([0.2573666], dtype=float32),\n  'logits': array([-1.0597011], dtype=float32),\n  'probabilities': array([0.7426334, 0.2573666], dtype=float32)},\n {'class_ids': array([0], dtype=int64),\n  'classes': array([b'0'], dtype=object),\n  'logistic': array([0.27860913], dtype=float32),\n  'logits': array([-0.9513713], dtype=float32),\n  'probabilities': array([0.7213909 , 0.27860913], dtype=float32)},\n {'class_ids': array([1], dtype=int64),\n  'classes': array([b'1'], dtype=object),\n  'logistic': array([0.7673024], dtype=float32),\n  'logits': array([1.1931413], dtype=float32),\n  'probabilities': array([0.23269756, 0.7673024 ], dtype=float32)},\n {'class_ids': array([0], dtype=int64),\n  'classes': array([b'0'], dtype=object),\n  'logistic': array([0.18342154], dtype=float32),\n  'logits': array([-1.493336], dtype=float32),\n  'probabilities': array([0.8165785 , 0.18342155], dtype=float32)},\n {'class_ids': array([0], dtype=int64),\n  'classes': array([b'0'], dtype=object),\n  'logistic': array([0.13029046], dtype=float32),\n  'logits': array([-1.8983929], dtype=float32),\n  'probabilities': array([0.86970955, 0.13029048], dtype=float32)},\n {'class_ids': array([1], dtype=int64),\n  'classes': array([b'1'], dtype=object),\n  'logistic': array([0.6064138], dtype=float32),\n  'logits': array([0.43226254], dtype=float32),\n  'probabilities': array([0.3935862, 0.6064138], dtype=float32)},\n {'class_ids': array([0], dtype=int64),\n  'classes': array([b'0'], dtype=object),\n  'logistic': array([0.48221737], dtype=float32),\n  'logits': array([-0.0711605], dtype=float32),\n  'probabilities': array([0.5177826, 0.4822174], dtype=float32)},\n {'class_ids': array([1], dtype=int64),\n  'classes': array([b'1'], dtype=object),\n  'logistic': array([0.8662114], dtype=float32),\n  'logits': array([1.8678685], dtype=float32),\n  'probabilities': array([0.13378854, 0.8662114 ], dtype=float32)},\n {'class_ids': array([1], dtype=int64),\n  'classes': array([b'1'], dtype=object),\n  'logistic': array([0.6421139], dtype=float32),\n  'logits': array([0.5845511], dtype=float32),\n  'probabilities': array([0.35788605, 0.6421139 ], dtype=float32)},\n {'class_ids': array([0], dtype=int64),\n  'classes': array([b'0'], dtype=object),\n  'logistic': array([0.13185251], dtype=float32),\n  'logits': array([-1.8846776], dtype=float32),\n  'probabilities': array([0.8681475 , 0.13185252], dtype=float32)},\n {'class_ids': array([1], dtype=int64),\n  'classes': array([b'1'], dtype=object),\n  'logistic': array([0.6518175], dtype=float32),\n  'logits': array([0.627038], dtype=float32),\n  'probabilities': array([0.34818247, 0.6518175 ], dtype=float32)},\n {'class_ids': array([1], dtype=int64),\n  'classes': array([b'1'], dtype=object),\n  'logistic': array([0.552347], dtype=float32),\n  'logits': array([0.21015811], dtype=float32),\n  'probabilities': array([0.447653, 0.552347], dtype=float32)},\n {'class_ids': array([1], dtype=int64),\n  'classes': array([b'1'], dtype=object),\n  'logistic': array([0.78699106], dtype=float32),\n  'logits': array([1.306883], dtype=float32),\n  'probabilities': array([0.21300888, 0.78699106], dtype=float32)},\n {'class_ids': array([0], dtype=int64),\n  'classes': array([b'0'], dtype=object),\n  'logistic': array([0.2315477], dtype=float32),\n  'logits': array([-1.1995926], dtype=float32),\n  'probabilities': array([0.7684523, 0.2315477], dtype=float32)},\n {'class_ids': array([0], dtype=int64),\n  'classes': array([b'0'], dtype=object),\n  'logistic': array([0.17419426], dtype=float32),\n  'logits': array([-1.5561885], dtype=float32),\n  'probabilities': array([0.8258057 , 0.17419426], dtype=float32)},\n {'class_ids': array([1], dtype=int64),\n  'classes': array([b'1'], dtype=object),\n  'logistic': array([0.5821258], dtype=float32),\n  'logits': array([0.331506], dtype=float32),\n  'probabilities': array([0.41787425, 0.5821258 ], dtype=float32)},\n {'class_ids': array([0], dtype=int64),\n  'classes': array([b'0'], dtype=object),\n  'logistic': array([0.1616623], dtype=float32),\n  'logits': array([-1.6459115], dtype=float32),\n  'probabilities': array([0.83833766, 0.16166228], dtype=float32)},\n {'class_ids': array([1], dtype=int64),\n  'classes': array([b'1'], dtype=object),\n  'logistic': array([0.7981145], dtype=float32),\n  'logits': array([1.3745517], dtype=float32),\n  'probabilities': array([0.20188545, 0.7981145 ], dtype=float32)},\n {'class_ids': array([1], dtype=int64),\n  'classes': array([b'1'], dtype=object),\n  'logistic': array([0.5416775], dtype=float32),\n  'logits': array([0.16709769], dtype=float32),\n  'probabilities': array([0.4583225, 0.5416775], dtype=float32)},\n {'class_ids': array([0], dtype=int64),\n  'classes': array([b'0'], dtype=object),\n  'logistic': array([0.18324131], dtype=float32),\n  'logits': array([-1.4945399], dtype=float32),\n  'probabilities': array([0.81675875, 0.18324131], dtype=float32)},\n {'class_ids': array([1], dtype=int64),\n  'classes': array([b'1'], dtype=object),\n  'logistic': array([0.5613939], dtype=float32),\n  'logits': array([0.24682105], dtype=float32),\n  'probabilities': array([0.43860614, 0.5613939 ], dtype=float32)},\n {'class_ids': array([0], dtype=int64),\n  'classes': array([b'0'], dtype=object),\n  'logistic': array([0.47497836], dtype=float32),\n  'logits': array([-0.10017037], dtype=float32),\n  'probabilities': array([0.5250217 , 0.47497833], dtype=float32)},\n {'class_ids': array([0], dtype=int64),\n  'classes': array([b'0'], dtype=object),\n  'logistic': array([0.11580107], dtype=float32),\n  'logits': array([-2.0328083], dtype=float32),\n  'probabilities': array([0.8841989 , 0.11580107], dtype=float32)},\n {'class_ids': array([1], dtype=int64),\n  'classes': array([b'1'], dtype=object),\n  'logistic': array([0.5211482], dtype=float32),\n  'logits': array([0.08464324], dtype=float32),\n  'probabilities': array([0.47885185, 0.5211482 ], dtype=float32)},\n {'class_ids': array([1], dtype=int64),\n  'classes': array([b'1'], dtype=object),\n  'logistic': array([0.6225483], dtype=float32),\n  'logits': array([0.5003785], dtype=float32),\n  'probabilities': array([0.37745172, 0.6225483 ], dtype=float32)},\n {'class_ids': array([1], dtype=int64),\n  'classes': array([b'1'], dtype=object),\n  'logistic': array([0.7429272], dtype=float32),\n  'logits': array([1.0612389], dtype=float32),\n  'probabilities': array([0.25707278, 0.7429272 ], dtype=float32)},\n {'class_ids': array([1], dtype=int64),\n  'classes': array([b'1'], dtype=object),\n  'logistic': array([0.8284507], dtype=float32),\n  'logits': array([1.5746862], dtype=float32),\n  'probabilities': array([0.17154938, 0.8284507 ], dtype=float32)},\n {'class_ids': array([0], dtype=int64),\n  'classes': array([b'0'], dtype=object),\n  'logistic': array([0.4462014], dtype=float32),\n  'logits': array([-0.21603066], dtype=float32),\n  'probabilities': array([0.5537986, 0.4462014], dtype=float32)},\n {'class_ids': array([0], dtype=int64),\n  'classes': array([b'0'], dtype=object),\n  'logistic': array([0.17133577], dtype=float32),\n  'logits': array([-1.5761899], dtype=float32),\n  'probabilities': array([0.82866424, 0.17133577], dtype=float32)},\n {'class_ids': array([0], dtype=int64),\n  'classes': array([b'0'], dtype=object),\n  'logistic': array([0.09122749], dtype=float32),\n  'logits': array([-2.2987385], dtype=float32),\n  'probabilities': array([0.90877247, 0.09122749], dtype=float32)},\n {'class_ids': array([0], dtype=int64),\n  'classes': array([b'0'], dtype=object),\n  'logistic': array([0.1134613], dtype=float32),\n  'logits': array([-2.055863], dtype=float32),\n  'probabilities': array([0.8865387, 0.1134613], dtype=float32)},\n {'class_ids': array([0], dtype=int64),\n  'classes': array([b'0'], dtype=object),\n  'logistic': array([0.27129573], dtype=float32),\n  'logits': array([-0.98805857], dtype=float32),\n  'probabilities': array([0.72870433, 0.27129573], dtype=float32)},\n {'class_ids': array([0], dtype=int64),\n  'classes': array([b'0'], dtype=object),\n  'logistic': array([0.33223256], dtype=float32),\n  'logits': array([-0.69810474], dtype=float32),\n  'probabilities': array([0.6677674 , 0.33223256], dtype=float32)},\n {'class_ids': array([0], dtype=int64),\n  'classes': array([b'0'], dtype=object),\n  'logistic': array([0.28727823], dtype=float32),\n  'logits': array([-0.9086399], dtype=float32),\n  'probabilities': array([0.71272177, 0.28727823], dtype=float32)}]"
      ]
     },
     "execution_count": 47,
     "metadata": {},
     "output_type": "execute_result"
    }
   ],
   "source": [
    "list(predictions)"
   ]
  },
  {
   "cell_type": "code",
   "execution_count": 48,
   "metadata": {},
   "outputs": [
    {
     "name": "stdout",
     "output_type": "stream",
     "text": [
      "INFO:tensorflow:Using default config.\n"
     ]
    },
    {
     "name": "stdout",
     "output_type": "stream",
     "text": [
      "WARNING:tensorflow:Using temporary folder as model directory: C:\\Users\\HINANA~1\\AppData\\Local\\Temp\\tmpfwppfb0a\n"
     ]
    },
    {
     "name": "stdout",
     "output_type": "stream",
     "text": [
      "INFO:tensorflow:Using config: {'_model_dir': 'C:\\\\Users\\\\HINANA~1\\\\AppData\\\\Local\\\\Temp\\\\tmpfwppfb0a', '_tf_random_seed': None, '_save_summary_steps': 100, '_save_checkpoints_steps': None, '_save_checkpoints_secs': 600, '_session_config': None, '_keep_checkpoint_max': 5, '_keep_checkpoint_every_n_hours': 10000, '_log_step_count_steps': 100, '_service': None, '_cluster_spec': <tensorflow.python.training.server_lib.ClusterSpec object at 0x0000017471BB0898>, '_task_type': 'worker', '_task_id': 0, '_master': '', '_is_chief': True, '_num_ps_replicas': 0, '_num_worker_replicas': 1}\n"
     ]
    }
   ],
   "source": [
    "dnn_model = tf.estimator.DNNClassifier(hidden_units=[10,10,10],feature_columns=feat_cols,n_classes=2)"
   ]
  },
  {
   "cell_type": "code",
   "execution_count": 49,
   "metadata": {},
   "outputs": [],
   "source": [
    "embedded_group_col = tf.feature_column.embedding_column(assigned_group, dimension=4)"
   ]
  },
  {
   "cell_type": "code",
   "execution_count": 50,
   "metadata": {},
   "outputs": [],
   "source": [
    "feat_cols = [num_preg, plasma_gluc, dias_press, tricep, insulin, bmi, diabetes_pedigree,\n",
    "             embedded_group_col, age_bucket]"
   ]
  },
  {
   "cell_type": "code",
   "execution_count": 51,
   "metadata": {},
   "outputs": [],
   "source": [
    "input_func = tf.estimator.inputs.pandas_input_fn(x=X_train,y=y_train,batch_size=10,num_epochs=1000,shuffle=True)"
   ]
  },
  {
   "cell_type": "code",
   "execution_count": 52,
   "metadata": {},
   "outputs": [
    {
     "name": "stdout",
     "output_type": "stream",
     "text": [
      "INFO:tensorflow:Using default config.\n"
     ]
    },
    {
     "name": "stdout",
     "output_type": "stream",
     "text": [
      "WARNING:tensorflow:Using temporary folder as model directory: C:\\Users\\HINANA~1\\AppData\\Local\\Temp\\tmp5i8wc1ya\n"
     ]
    },
    {
     "name": "stdout",
     "output_type": "stream",
     "text": [
      "INFO:tensorflow:Using config: {'_model_dir': 'C:\\\\Users\\\\HINANA~1\\\\AppData\\\\Local\\\\Temp\\\\tmp5i8wc1ya', '_tf_random_seed': None, '_save_summary_steps': 100, '_save_checkpoints_steps': None, '_save_checkpoints_secs': 600, '_session_config': None, '_keep_checkpoint_max': 5, '_keep_checkpoint_every_n_hours': 10000, '_log_step_count_steps': 100, '_service': None, '_cluster_spec': <tensorflow.python.training.server_lib.ClusterSpec object at 0x0000017471BB09E8>, '_task_type': 'worker', '_task_id': 0, '_master': '', '_is_chief': True, '_num_ps_replicas': 0, '_num_worker_replicas': 1}\n"
     ]
    }
   ],
   "source": [
    "dnn_model = tf.estimator.DNNClassifier(hidden_units=[10,10,10],feature_columns=feat_cols,n_classes=2)"
   ]
  },
  {
   "cell_type": "code",
   "execution_count": 53,
   "metadata": {},
   "outputs": [
    {
     "name": "stdout",
     "output_type": "stream",
     "text": [
      "INFO:tensorflow:Create CheckpointSaverHook.\n"
     ]
    },
    {
     "name": "stdout",
     "output_type": "stream",
     "text": [
      "INFO:tensorflow:Saving checkpoints for 1 into C:\\Users\\HINANA~1\\AppData\\Local\\Temp\\tmp5i8wc1ya\\model.ckpt.\n"
     ]
    },
    {
     "name": "stdout",
     "output_type": "stream",
     "text": [
      "INFO:tensorflow:loss = 7.1677227, step = 1\n"
     ]
    },
    {
     "name": "stdout",
     "output_type": "stream",
     "text": [
      "INFO:tensorflow:global_step/sec: 322.266\n"
     ]
    },
    {
     "name": "stdout",
     "output_type": "stream",
     "text": [
      "INFO:tensorflow:loss = 6.072645, step = 101 (0.311 sec)\n"
     ]
    },
    {
     "name": "stdout",
     "output_type": "stream",
     "text": [
      "INFO:tensorflow:global_step/sec: 494.802\n"
     ]
    },
    {
     "name": "stdout",
     "output_type": "stream",
     "text": [
      "INFO:tensorflow:loss = 5.245202, step = 201 (0.202 sec)\n"
     ]
    },
    {
     "name": "stdout",
     "output_type": "stream",
     "text": [
      "INFO:tensorflow:global_step/sec: 477.156\n"
     ]
    },
    {
     "name": "stdout",
     "output_type": "stream",
     "text": [
      "INFO:tensorflow:loss = 6.9561796, step = 301 (0.210 sec)\n"
     ]
    },
    {
     "name": "stdout",
     "output_type": "stream",
     "text": [
      "INFO:tensorflow:global_step/sec: 502.438"
     ]
    },
    {
     "name": "stdout",
     "output_type": "stream",
     "text": [
      "\n"
     ]
    },
    {
     "name": "stdout",
     "output_type": "stream",
     "text": [
      "INFO:tensorflow:loss = 3.245342, step = 401 (0.202 sec)\n"
     ]
    },
    {
     "name": "stdout",
     "output_type": "stream",
     "text": [
      "INFO:tensorflow:global_step/sec: 482.972\n"
     ]
    },
    {
     "name": "stdout",
     "output_type": "stream",
     "text": [
      "INFO:tensorflow:loss = 4.2490377, step = 501 (0.206 sec)\n"
     ]
    },
    {
     "name": "stdout",
     "output_type": "stream",
     "text": [
      "INFO:tensorflow:global_step/sec: 462.804\n"
     ]
    },
    {
     "name": "stdout",
     "output_type": "stream",
     "text": [
      "INFO:tensorflow:loss = 3.0816777, step = 601 (0.214 sec)\n"
     ]
    },
    {
     "name": "stdout",
     "output_type": "stream",
     "text": [
      "INFO:tensorflow:global_step/sec: 529.092\n"
     ]
    },
    {
     "name": "stdout",
     "output_type": "stream",
     "text": [
      "INFO:tensorflow:loss = 8.562897, step = 701 (0.189 sec)\n"
     ]
    },
    {
     "name": "stdout",
     "output_type": "stream",
     "text": [
      "INFO:tensorflow:global_step/sec: 506.263\n"
     ]
    },
    {
     "name": "stdout",
     "output_type": "stream",
     "text": [
      "INFO:tensorflow:loss = 4.5569267, step = 801 (0.198 sec)\n"
     ]
    },
    {
     "name": "stdout",
     "output_type": "stream",
     "text": [
      "INFO:tensorflow:global_step/sec: 527.617\n"
     ]
    },
    {
     "name": "stdout",
     "output_type": "stream",
     "text": [
      "INFO:tensorflow:loss = 4.567149, step = 901 (0.191 sec)\n"
     ]
    },
    {
     "name": "stdout",
     "output_type": "stream",
     "text": [
      "INFO:tensorflow:Saving checkpoints for 1000 into C:\\Users\\HINANA~1\\AppData\\Local\\Temp\\tmp5i8wc1ya\\model.ckpt.\n"
     ]
    },
    {
     "name": "stdout",
     "output_type": "stream",
     "text": [
      "INFO:tensorflow:Loss for final step: 5.010309.\n"
     ]
    },
    {
     "data": {
      "text/plain": [
       "<tensorflow.python.estimator.canned.dnn.DNNClassifier at 0x17471bb0588>"
      ]
     },
     "execution_count": 53,
     "metadata": {},
     "output_type": "execute_result"
    }
   ],
   "source": [
    "dnn_model.train(input_fn=input_func, steps=1000)"
   ]
  },
  {
   "cell_type": "code",
   "execution_count": 54,
   "metadata": {},
   "outputs": [],
   "source": [
    "eval_input_func = tf.estimator.inputs.pandas_input_fn(\n",
    "      x=X_test,\n",
    "      y=y_test,\n",
    "      batch_size=10,\n",
    "      num_epochs=1,\n",
    "      shuffle=False)"
   ]
  },
  {
   "cell_type": "code",
   "execution_count": 55,
   "metadata": {},
   "outputs": [
    {
     "name": "stdout",
     "output_type": "stream",
     "text": [
      "WARNING:tensorflow:Casting <dtype: 'float32'> labels to bool.\n"
     ]
    },
    {
     "name": "stdout",
     "output_type": "stream",
     "text": [
      "WARNING:tensorflow:Casting <dtype: 'float32'> labels to bool.\n"
     ]
    },
    {
     "name": "stdout",
     "output_type": "stream",
     "text": [
      "INFO:tensorflow:Starting evaluation at 2018-01-23-08:13:53\n"
     ]
    },
    {
     "name": "stdout",
     "output_type": "stream",
     "text": [
      "INFO:tensorflow:Restoring parameters from C:\\Users\\HINANA~1\\AppData\\Local\\Temp\\tmp5i8wc1ya\\model.ckpt-1000\n"
     ]
    },
    {
     "name": "stdout",
     "output_type": "stream",
     "text": [
      "INFO:tensorflow:Finished evaluation at 2018-01-23-08:13:54\n"
     ]
    },
    {
     "name": "stdout",
     "output_type": "stream",
     "text": [
      "INFO:tensorflow:Saving dict for global step 1000: accuracy = 0.7322835, accuracy_baseline = 0.65748036, auc = 0.80817676, auc_precision_recall = 0.63508475, average_loss = 0.5080791, global_step = 1000, label/mean = 0.34251967, loss = 4.963542, prediction/mean = 0.38322672\n"
     ]
    },
    {
     "data": {
      "text/plain": [
       "{'accuracy': 0.7322835,\n 'accuracy_baseline': 0.65748036,\n 'auc': 0.80817676,\n 'auc_precision_recall': 0.63508475,\n 'average_loss': 0.5080791,\n 'global_step': 1000,\n 'label/mean': 0.34251967,\n 'loss': 4.963542,\n 'prediction/mean': 0.38322672}"
      ]
     },
     "execution_count": 55,
     "metadata": {},
     "output_type": "execute_result"
    }
   ],
   "source": [
    "dnn_model.evaluate(eval_input_func)"
   ]
  },
  {
   "cell_type": "code",
   "execution_count": null,
   "metadata": {},
   "outputs": [],
   "source": []
  }
 ],
 "metadata": {
  "kernelspec": {
   "display_name": "Python 2",
   "language": "python",
   "name": "python2"
  },
  "language_info": {
   "codemirror_mode": {
    "name": "ipython",
    "version": 2
   },
   "file_extension": ".py",
   "mimetype": "text/x-python",
   "name": "python",
   "nbconvert_exporter": "python",
   "pygments_lexer": "ipython2",
   "version": "2.7.6"
  }
 },
 "nbformat": 4,
 "nbformat_minor": 0
}
